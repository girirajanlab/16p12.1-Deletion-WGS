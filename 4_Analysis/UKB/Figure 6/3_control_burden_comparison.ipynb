{
 "cells": [
  {
   "cell_type": "code",
   "execution_count": 1,
   "metadata": {
    "tags": [],
    "trusted": true
   },
   "outputs": [],
   "source": [
    "import pandas as pd\n",
    "\n",
    "import scipy.stats as stats\n",
    "\n",
    "import matplotlib\n",
    "import matplotlib.pyplot as plt\n",
    "from matplotlib.backends.backend_pdf import PdfPages\n",
    "import seaborn as sns\n",
    "\n",
    "import dxpy\n",
    "import os"
   ]
  },
  {
   "cell_type": "code",
   "execution_count": null,
   "metadata": {},
   "outputs": [],
   "source": [
    "# Input and output files\n",
    "BURDEN_16P=\"/path/to/16p12.1/sample/burden/data.csv\" # Use the output of script 3_identify_samples.ipynb\n",
    "BURDEN_CONTROL=\"/path/to/control/sample/burden/data.csv\" # Use the output of script 3_identify_samples.ipynb\n",
    "\n",
    "OUTPUT_DIR=\"/path/to/output/directory\"\n",
    "# Output will be (1) histograms of the burden in 16p12.1 deletion samples and controls as shown in Figure 6C\n",
    "# (2) a file with the t-test statistics, as shown in Table S5D"
   ]
  },
  {
   "cell_type": "code",
   "execution_count": null,
   "metadata": {
    "tags": [],
    "trusted": true
   },
   "outputs": [],
   "source": [
    "# Compare burden between 16p12.1 deletion and control samples\n",
    "df=pd.read_csv(BURDEN_16P)\n",
    "df['Case_Control']='16p12.1 deletion'\n",
    "contdf=pd.read_csv(BURDEN_CONTROL)\n",
    "contdf['Case_Control']='No CNV Control'\n",
    "\n",
    "df=pd.concat([df, contdf])"
   ]
  },
  {
   "cell_type": "code",
   "execution_count": 3,
   "metadata": {
    "tags": [],
    "trusted": true
   },
   "outputs": [],
   "source": [
    "# Remove splice variants from All coding SNVs\n",
    "df['All coding SNVs']=df['All coding SNVs']-df.Splice\n",
    "df['All coding SNVs (LF)']=df['All coding SNVs (LF)']-df['Splice (LF)']"
   ]
  },
  {
   "cell_type": "code",
   "execution_count": 4,
   "metadata": {
    "tags": [],
    "trusted": true
   },
   "outputs": [],
   "source": [
    "pdf=PdfPages('2_Fig5B.pdf')\n",
    "burden_cols=['All coding SNVs', 'Missense', 'LOF', 'All coding SNVs (LF)', 'Missense (LF)', 'LOF (LF)']\n",
    "stat_lst=[]\n",
    "\n",
    "for col in burden_cols:\n",
    "    subdf=df[~df[col].isnull()]\n",
    "    # Plot\n",
    "    fig, ax=plt.subplots()\n",
    "    sns.histplot(data=subdf, x=col, hue='Case_Control', hue_order=['16p12.1 deletion', 'No CNV Control'], palette=['#795C8D', '#AFAFAF'], kde=True, common_norm=False, stat='proportion', discrete=True)\n",
    "\n",
    "    # Run t-test\n",
    "    del_16p=subdf[subdf.Case_Control=='16p12.1 deletion'][col].to_numpy()\n",
    "    control=subdf[subdf.Case_Control=='No CNV Control'][col].to_numpy()\n",
    "\n",
    "    res=stats.ttest_ind(del_16p, control, alternative='less')\n",
    "    stat_lst.append([col, 'One-tailed T test', len(del_16p), len(control), sum(del_16p)/len(del_16p), sum(control)/len(control), res.statistic, res.pvalue])\n",
    "\n",
    "    mean_16p=sum(del_16p)/len(del_16p)\n",
    "    mean_control=sum(control)/len(control)\n",
    "    \n",
    "    ax.axvline(mean_16p, color='#795C8D', ls='--', zorder=0)\n",
    "    ax.axvline(mean_control, color='#AFAFAF', ls='--', zorder=0)\n",
    "\n",
    "    lo, hi=plt.ylim()\n",
    "\n",
    "    text='p=%.3f' % res.pvalue\n",
    "    plt.text(mean_control, hi, text, ha='left', va='bottom')\n",
    "\n",
    "    plt.ylim(lo, hi*1.1)\n",
    "\n",
    "    plt.title(col)\n",
    "    pdf.savefig()\n",
    "    plt.close()\n",
    "pdf.close()\n",
    "\n",
    "# Save results in frame\n",
    "stat_df=pd.DataFrame(stat_lst, columns=['Variable', 'Test', '16p12.1 del. n', 'Control n', '16p12.1 del. mean', 'Control mean', 'statistic', 'p value'])"
   ]
  },
  {
   "cell_type": "code",
   "execution_count": null,
   "metadata": {
    "tags": [],
    "trusted": true
   },
   "outputs": [],
   "source": [
    "# Save results as CSV\n",
    "stat_df.to_csv('control_burden_comparison.csv', index=False)\n",
    "dxpy.upload_local_file('control_burden_comparison.csv', folder=OUTPUT_DIR, parents=True)\n",
    "os.remove('control_burden_comparison.csv')"
   ]
  },
  {
   "cell_type": "code",
   "execution_count": null,
   "metadata": {
    "tags": [],
    "trusted": true
   },
   "outputs": [],
   "source": [
    "# Save PDF\n",
    "dxpy.upload_local_file('Fig6C.pdf', folder=OUTPUT_DIR, parents=True)\n",
    "os.remove('Fig6C.pdf')"
   ]
  }
 ],
 "metadata": {
  "kernelspec": {
   "display_name": "Python 3 (ipykernel)",
   "language": "python",
   "name": "python3"
  },
  "language_info": {
   "codemirror_mode": {
    "name": "ipython",
    "version": 3
   },
   "file_extension": ".py",
   "mimetype": "text/x-python",
   "name": "python",
   "nbconvert_exporter": "python",
   "pygments_lexer": "ipython3",
   "version": "3.11.5"
  }
 },
 "nbformat": 4,
 "nbformat_minor": 4
}
