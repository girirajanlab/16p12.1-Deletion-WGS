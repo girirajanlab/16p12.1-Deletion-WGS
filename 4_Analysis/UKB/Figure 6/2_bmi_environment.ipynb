{
 "cells": [
  {
   "cell_type": "code",
   "execution_count": null,
   "metadata": {
    "tags": [],
    "trusted": true
   },
   "outputs": [],
   "source": [
    "pip install statsmodels"
   ]
  },
  {
   "cell_type": "code",
   "execution_count": null,
   "metadata": {
    "tags": [],
    "trusted": true
   },
   "outputs": [],
   "source": [
    "import pandas as pd\n",
    "import numpy as np\n",
    "\n",
    "import scipy.stats as stats\n",
    "import statsmodels.api as sm\n",
    "import statsmodels.formula.api as smf\n",
    "from statsmodels.stats.multitest import fdrcorrection\n",
    "\n",
    "import matplotlib\n",
    "import matplotlib.pyplot as plt\n",
    "import seaborn as sns\n",
    "from matplotlib.backends.backend_pdf import PdfPages\n",
    "\n",
    "matplotlib.rcParams['pdf.fonttype'] = 42\n",
    "\n",
    "import os\n",
    "import dxpy"
   ]
  },
  {
   "cell_type": "code",
   "execution_count": null,
   "metadata": {},
   "outputs": [],
   "source": [
    "# Input and output files\n",
    "BMI_DATA=\"/path/to/BMI/and/lifestyle/factors/data.tsx.gz\" # Data is from https://github.com/deeprob/BMI_monogenic. Relevant notebooks are in phenotypic_data_processing/\n",
    "PHEWAS_COV=\"/path/to/PheWAS/covariate/data.csv\" # Use output of script 3_Data preparation/UKB/7_gather_phewas.ipynb\n",
    "PHEWAS_GENO=\"/path/to/PheWAS/genotype/data.csv\" # Use output of script 3_Data preparation/UKB/7_gather_phewas.ipynb\n",
    "\n",
    "OUTPUT_DIR=\"/path/to/output/directory\"\n",
    "# Output will be (1) a PDF forest plot of the regression estimates and CIs shown in Figure 6B\n",
    "# (2) a file with the regression statistics, as shown in Table S5C"
   ]
  },
  {
   "cell_type": "code",
   "execution_count": null,
   "metadata": {
    "tags": [],
    "trusted": true
   },
   "outputs": [],
   "source": [
    "# BMI and covariate data for Europeans\n",
    "bmi=pd.read_csv(BMI_DATA, compression='gzip', sep='\\t')"
   ]
  },
  {
   "cell_type": "code",
   "execution_count": null,
   "metadata": {
    "tags": [],
    "trusted": true
   },
   "outputs": [],
   "source": [
    "# Subset data to include only samples used for PheWAS analysis\n",
    "cov=pd.read_csv(PHEWAS_COV)\n",
    "geno=pd.read_csv(PHEWAS_GENO)\n",
    "df=pd.merge(cov, geno, on='id')"
   ]
  },
  {
   "cell_type": "code",
   "execution_count": null,
   "metadata": {
    "tags": [],
    "trusted": true
   },
   "outputs": [],
   "source": [
    "df['Sample']=df['id']\n",
    "bmi['Sample']=bmi.IID\n",
    "df=pd.merge(df, bmi, on='Sample', how='inner')"
   ]
  },
  {
   "cell_type": "code",
   "execution_count": null,
   "metadata": {
    "tags": [],
    "trusted": true
   },
   "outputs": [],
   "source": [
    "def run_model(moddf, input_vars, output_col, mod_type='linear'):\n",
    "    X=sm.add_constant(moddf[input_vars].to_numpy())\n",
    "    form=f'{output_col} ~ {\" + \".join(input_vars)} + {\" + \".join([\"del_16p12 * \"+(i) for i in [\"pa\", \"alcohol\", \"smoke\", \"sleep\", \"sedentary\", \"diet\", \"meds\"]])}'\n",
    "    if mod_type=='linear':\n",
    "        mod=smf.ols(formula=form, data=moddf)\n",
    "    elif mod_type=='logistic':\n",
    "        mod=smf.logit(formula=form, data=moddf)\n",
    "    \n",
    "    res=mod.fit()\n",
    "\n",
    "    # Parse model\n",
    "    num_vars=form.count('+')+2\n",
    "    ci=res.conf_int(alpha=0.05)\n",
    "    if mod_type=='linear':\n",
    "        r2=res.rsquared\n",
    "        test='Linear regression'\n",
    "    elif mod_type=='logistic':\n",
    "        r2=res.prsquared\n",
    "        test='Logistic regression'\n",
    "        \n",
    "    res_dict={'Phenotype':[output_col]*num_vars, 'Test':[test]*num_vars, 'N':[moddf.shape[0]]*num_vars,\n",
    "              'Effect size':res.params, 'Error':res.bse, 'p value':res.pvalues, 'R2':[r2]*num_vars}\n",
    "    mod_res=pd.DataFrame(res_dict)\n",
    "    \n",
    "    ci.columns=['95% C.I. lower', '95% C.I. upper']\n",
    "    mod_res=pd.merge(mod_res, ci, right_index=True, left_index=True)\n",
    "    \n",
    "    mod_res['Variable']=mod_res.index.to_list()\n",
    "    \n",
    "    return mod_res"
   ]
  },
  {
   "cell_type": "code",
   "execution_count": null,
   "metadata": {
    "tags": [],
    "trusted": true
   },
   "outputs": [],
   "source": [
    "cov_cols=['sex', 'age', 'age_2',\n",
    "          'genetic_pca1', 'genetic_pca2', 'genetic_pca3', 'genetic_pca4', 'genetic_pca5', 'genetic_pca6', 'genetic_pca7', 'genetic_pca8', 'genetic_pca9', 'genetic_pca10',\n",
    "          'bmi_prs', 'pa', 'alcohol', 'smoke', 'sleep', 'sedentary', 'diet', 'meds']\n",
    "pheno_col=['bmi']\n",
    "geno_col=['del_16p12']\n",
    "\n",
    "df[geno_col[0]]=df['16p12_del']\n",
    "\n",
    "moddf=df[cov_cols+geno_col+pheno_col]\n",
    "moddf=moddf[~(moddf.isnull().any(axis=1))]"
   ]
  },
  {
   "cell_type": "code",
   "execution_count": null,
   "metadata": {
    "tags": [],
    "trusted": true
   },
   "outputs": [],
   "source": [
    "# Make a plot with only the significant variables of interest\n",
    "output=run_model(moddf, cov_cols+geno_col, pheno_col[0])\n",
    "output['order']=output.index.to_list()\n",
    "plotdf2=output[output.Variable.isin(['bmi_prs', 'pa', 'alcohol', 'smoke', 'sleep', 'sedentary', 'diet', 'meds', 'del_16p12'])]\n",
    "plotdf2.reset_index(inplace=True, drop=True)\n",
    "sns.scatterplot(data=plotdf2, x='Effect size', y='order', color='k')\n",
    "for idx, row in plotdf2.iterrows():\n",
    "    plt.plot([row['95% C.I. lower'], row['95% C.I. upper']], [row.order, row.order], color='k')\n",
    "plt.axvline(0, color='grey', ls='--', zorder=0)\n",
    "plt.yticks(plotdf2.order.to_list(), plotdf2.Variable.to_list())\n",
    "plt.ylabel('Variable')\n",
    "plt.tight_layout()\n",
    "plt.savefig('UKB_BMI_regression_subset_vars.pdf')"
   ]
  },
  {
   "cell_type": "code",
   "execution_count": null,
   "metadata": {
    "tags": [],
    "trusted": true
   },
   "outputs": [],
   "source": [
    "# Save plot\n",
    "dxpy.upload_local_file('UKB_BMI_regression_subset_vars.pdf', folder=OUTPUT_DIR, parents=True)\n",
    "os.remove('UKB_BMI_regression_subset_vars.pdf')"
   ]
  },
  {
   "cell_type": "code",
   "execution_count": null,
   "metadata": {
    "trusted": true
   },
   "outputs": [],
   "source": [
    "# Save regression data\n",
    "output.to_csv('UKB_BMI_regression.csv', index=False)\n",
    "dxpy.upload_local_file('UKB_BMI_regression.csv', folder=OUTPUT_DIR, parents=True)\n",
    "os.remove('UKB_BMI_regression.csv')"
   ]
  }
 ],
 "metadata": {
  "kernelspec": {
   "display_name": "Python 3 (ipykernel)",
   "language": "python",
   "name": "python3"
  },
  "language_info": {
   "codemirror_mode": {
    "name": "ipython",
    "version": 3
   },
   "file_extension": ".py",
   "mimetype": "text/x-python",
   "name": "python",
   "nbconvert_exporter": "python",
   "pygments_lexer": "ipython3",
   "version": "3.11.5"
  }
 },
 "nbformat": 4,
 "nbformat_minor": 4
}
