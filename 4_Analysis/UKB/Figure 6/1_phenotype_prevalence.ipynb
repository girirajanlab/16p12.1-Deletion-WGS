{
 "cells": [
  {
   "cell_type": "code",
   "execution_count": 1,
   "metadata": {
    "tags": [],
    "trusted": true
   },
   "outputs": [],
   "source": [
    "import pandas as pd\n",
    "import dxpy\n",
    "import os"
   ]
  },
  {
   "cell_type": "code",
   "execution_count": null,
   "metadata": {
    "tags": [],
    "trusted": true
   },
   "outputs": [],
   "source": [
    "# Calculate the frequency of different phenotypes in 16p12.1 deletion samples\n",
    "\n",
    "# Input and output files\n",
    "DATA=\"/path/to/UKB/data.csv\" # Use the output of script 3_Data preparation/UKB/6_compile_data.ipynb\n",
    "OUTPUT_DIR=\"/path/to/output/directory\"\n",
    "\n",
    "# Output will be a table with the prevalence of phenotypes in this group"
   ]
  },
  {
   "cell_type": "code",
   "execution_count": null,
   "metadata": {},
   "outputs": [],
   "source": [
    "# Load data\n",
    "df=pd.read_csv(DATA)\n",
    "df=df[['Sample',\n",
    "       'Depression', 'Sleep trouble', 'Anxiety', 'Addiction', 'Psychosis',\n",
    "       'Sleep trouble (ICD10)', 'Addiction (ICD10)', 'Depression (ICD10)', 'Anxiety (ICD10)', 'Psychosis (ICD10)']]"
   ]
  },
  {
   "cell_type": "code",
   "execution_count": null,
   "metadata": {
    "tags": [],
    "trusted": true
   },
   "outputs": [],
   "source": [
    "# Get counts with and without each phenotype\n",
    "val0=(df==0).sum()\n",
    "val1=(df==1).sum()"
   ]
  },
  {
   "cell_type": "code",
   "execution_count": 4,
   "metadata": {
    "tags": [],
    "trusted": true
   },
   "outputs": [],
   "source": [
    "# Format\n",
    "freqdf=pd.DataFrame([val0, val1]).transpose()\n",
    "freqdf.columns=['Without', 'Count']\n",
    "freqdf['Phenotype']=freqdf.index.to_list()\n",
    "freqdf['Total']=freqdf.Count+freqdf.Without\n",
    "freqdf['Cohort']='UKB (Questionnaire)'\n",
    "freqdf.loc[freqdf.Phenotype.str.contains('ICD10'), 'Cohort']='UKB (ICD10)'\n",
    "freqdf=freqdf[freqdf.Phenotype!='Sample']\n",
    "freqdf['Phenotype']=freqdf.Phenotype.str.split(\" \\\\(\", expand=True)[0]"
   ]
  },
  {
   "cell_type": "code",
   "execution_count": null,
   "metadata": {
    "tags": [],
    "trusted": true
   },
   "outputs": [],
   "source": [
    "# Save\n",
    "freqdf[['Phenotype', 'Cohort', 'Count', 'Without', 'Total']].to_csv('1_UKB_phenotype_prevalence.csv', index=False)\n",
    "dxpy.upload_local_file('1_UKB_phenotype_prevalence.csv', folder=OUTPUT_DIR, parents=True)\n",
    "os.remove('1_UKB_phenotype_prevalence.csv')"
   ]
  }
 ],
 "metadata": {
  "kernelspec": {
   "display_name": "Python 3 (ipykernel)",
   "language": "python",
   "name": "python3"
  },
  "language_info": {
   "codemirror_mode": {
    "name": "ipython",
    "version": 3
   },
   "file_extension": ".py",
   "mimetype": "text/x-python",
   "name": "python",
   "nbconvert_exporter": "python",
   "pygments_lexer": "ipython3",
   "version": "3.11.5"
  }
 },
 "nbformat": 4,
 "nbformat_minor": 4
}
