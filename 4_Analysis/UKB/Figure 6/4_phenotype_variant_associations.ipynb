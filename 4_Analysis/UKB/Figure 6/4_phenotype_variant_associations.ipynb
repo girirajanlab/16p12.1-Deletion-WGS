{
 "cells": [
  {
   "cell_type": "code",
   "execution_count": null,
   "metadata": {
    "tags": [],
    "trusted": true
   },
   "outputs": [],
   "source": [
    "pip install statsmodels"
   ]
  },
  {
   "cell_type": "code",
   "execution_count": null,
   "metadata": {
    "tags": [],
    "trusted": true
   },
   "outputs": [],
   "source": [
    "import pandas as pd\n",
    "import numpy as np\n",
    "\n",
    "import scipy.stats as stats\n",
    "\n",
    "from statsmodels.stats.multitest import fdrcorrection\n",
    "\n",
    "import seaborn as sns\n",
    "import matplotlib.pyplot as plt\n",
    "import matplotlib\n",
    "from matplotlib.colors import LinearSegmentedColormap\n",
    "\n",
    "import dxpy\n",
    "import os"
   ]
  },
  {
   "cell_type": "code",
   "execution_count": null,
   "metadata": {},
   "outputs": [],
   "source": [
    "# Input and output files\n",
    "DATA=\"/path/to/UKB/data.csv\" # Use the output of script 3_Data preparation/UKB/6_compile_data.ipynb\n",
    "OUTPUT_DIR=\"/path/to/output/directory\"\n",
    "\n",
    "# Output will be (1) a heatmap of the results, as shown in Fig. 6D (right) and \n",
    "# (2) a table of t-test results, as shown in Table S5E"
   ]
  },
  {
   "cell_type": "code",
   "execution_count": null,
   "metadata": {
    "tags": [],
    "trusted": true
   },
   "outputs": [],
   "source": [
    "# Perform t-tests for the burden of specific variant classes with phenotypes\n",
    "df=pd.read_csv(DATA)"
   ]
  },
  {
   "cell_type": "code",
   "execution_count": null,
   "metadata": {
    "tags": [],
    "trusted": true
   },
   "outputs": [],
   "source": [
    "# Remove splice variants from All coding SNVs\n",
    "df['All coding SNVs']=df['All coding SNVs']-df.Splice\n",
    "df['All coding SNVs (LF)']=df['All coding SNVs (LF)']-df['Splice (LF)']"
   ]
  },
  {
   "cell_type": "code",
   "execution_count": null,
   "metadata": {
    "tags": [],
    "trusted": true
   },
   "outputs": [],
   "source": [
    "vars=['All coding SNVs', 'Missense', 'LOF', 'Genes del.', 'Genes dup.',\n",
    "      'Intelligence PRS', 'SCZ PRS', 'Education PRS', 'Autism PRS',\n",
    "      'All coding SNVs (LF)', 'Missense (LF)', 'LOF (LF)', 'Genes del. (LF)', 'Genes dup. (LF)']\n",
    "phenos=['Depression', 'Anxiety', 'Sleep trouble', 'Psychosis', 'Addiction', 'Mood lability']"
   ]
  },
  {
   "cell_type": "code",
   "execution_count": null,
   "metadata": {
    "tags": [],
    "trusted": true
   },
   "outputs": [],
   "source": [
    "def cohens_d(x,y):\n",
    "    nx = len(x)\n",
    "    ny = len(y)\n",
    "    dof = nx + ny - 2\n",
    "    return (np.mean(x) - np.mean(y)) / np.sqrt(((nx-1)*np.std(x, ddof=1) ** 2 + (ny-1)*np.std(y, ddof=1) ** 2) / dof)"
   ]
  },
  {
   "cell_type": "code",
   "execution_count": null,
   "metadata": {
    "tags": [],
    "trusted": true
   },
   "outputs": [],
   "source": [
    "stat_lst=[]\n",
    "for v in vars:\n",
    "    for p in phenos:\n",
    "        subdf=df[(~df[v].isnull()) & (~df[p].isnull())]\n",
    "\n",
    "        # Restrict analyses to phenotype/variant combinations where at least 5 or 10% of the cohort are available as cases and controls\n",
    "        cutoff=subdf.shape[0]*0.1\n",
    "        if cutoff<5:\n",
    "            cutoff=5\n",
    "\n",
    "        x=subdf[subdf[p]>0][v].to_numpy()\n",
    "        y=subdf[subdf[p]==0][v].to_numpy()\n",
    "\n",
    "        if len(x)<cutoff or len(y)<cutoff:\n",
    "            continue\n",
    "\n",
    "        res=stats.ttest_ind(x, y, alternative='two-sided')\n",
    "\n",
    "        # Save stats\n",
    "        stat_lst.append([p, v, 'Two tailed t-test', np.mean(x), np.std(x), len(x), np.mean(y), np.std(y), len(y), cohens_d(x, y), res.statistic, res.pvalue])\n",
    "statdf=pd.DataFrame(stat_lst, columns=['Phenotype', 'Variant', 'Test', 'Case mean', 'Case SD', 'Case N', 'Control mean', 'Control SD', 'Control N', \"Cohen's D\", 'statistic', 'p value'])"
   ]
  },
  {
   "cell_type": "code",
   "execution_count": null,
   "metadata": {
    "tags": [],
    "trusted": true
   },
   "outputs": [],
   "source": [
    "statdf[statdf['p value']<=0.05]"
   ]
  },
  {
   "cell_type": "code",
   "execution_count": null,
   "metadata": {
    "tags": [],
    "trusted": true
   },
   "outputs": [],
   "source": [
    "# Multiple test correct\n",
    "# Correct separately over LF and non-LF categories\n",
    "statdf['BH FDR']=np.nan\n",
    "statdf.loc[(statdf.Variant.str.contains('LF')) & (~statdf['p value'].isnull()), 'BH FDR']=fdrcorrection(statdf[(statdf.Variant.str.contains('LF')) & (~statdf['p value'].isnull())]['p value'].to_numpy())[1]\n",
    "statdf.loc[(~statdf.Variant.str.contains('LF')) & (~statdf['p value'].isnull()), 'BH FDR']=fdrcorrection(statdf[(~statdf.Variant.str.contains('LF')) & (~statdf['p value'].isnull())]['p value'].to_numpy())[1]"
   ]
  },
  {
   "cell_type": "code",
   "execution_count": null,
   "metadata": {
    "tags": [],
    "trusted": true
   },
   "outputs": [],
   "source": [
    "# Save results\n",
    "statdf.to_csv('UKB_ttests.csv', index=False)\n",
    "dxpy.upload_local_file('UKB_ttests.csv', folder=OUTPUT_DIR, parents=True)\n",
    "os.remove('UKB_ttests.csv')"
   ]
  },
  {
   "cell_type": "code",
   "execution_count": null,
   "metadata": {
    "tags": [],
    "trusted": true
   },
   "outputs": [],
   "source": [
    "# Make a heatmap of results\n",
    "plotdf=statdf.pivot(index='Variant', columns='Phenotype', values=\"Cohen's D\")\n",
    "statdf['star']=''\n",
    "statdf.loc[statdf['p value']<=0.05, 'star']='*'\n",
    "statdf.loc[statdf['BH FDR']<=0.05, 'star']='**'\n",
    "stardf=statdf.pivot(index='Variant', columns='Phenotype', values=\"star\")\n",
    "\n",
    "pheno_order=['Depression', 'Anxiety', 'Sleep trouble', 'Mood lability']\n",
    "\n",
    "plotdf=plotdf.loc[vars, pheno_order]\n",
    "stardf=stardf.loc[vars, pheno_order]\n",
    "\n",
    "biggest=1.4\n",
    "\n",
    "colors=[\"#053061\", \"#2166AC\", \"#4393C3\", \"#92C5DE\", \"#D1E5F0\", '#FFFFFF', \"#FDDBC7\", \"#F4A582\", \"#D6604D\", \"#B2182B\", \"#67001F\"]\n",
    "cmap=LinearSegmentedColormap.from_list('BlRd', colors, N=20)\n",
    "cmap.set_bad('#CCCCCC')\n",
    "sns.heatmap(data=plotdf, cmap=cmap, vmin=-biggest, vmax=biggest, square=True, fmt='', linecolor='k', linewidths=0.75, annot=stardf)\n",
    "plt.tight_layout()\n",
    "plt.savefig('Fig6D_right.pdf')\n",
    "plt.close()"
   ]
  },
  {
   "cell_type": "code",
   "execution_count": null,
   "metadata": {
    "tags": [],
    "trusted": true
   },
   "outputs": [],
   "source": [
    "# Save plot\n",
    "dxpy.upload_local_file('Fig6D_right.pdf', folder=OUTPUT_DIR, parents=True)\n",
    "os.remove('Fig6D_right.pdf')"
   ]
  }
 ],
 "metadata": {
  "kernelspec": {
   "display_name": "Python 3 (ipykernel)",
   "language": "python",
   "name": "python3"
  },
  "language_info": {
   "codemirror_mode": {
    "name": "ipython",
    "version": 3
   },
   "file_extension": ".py",
   "mimetype": "text/x-python",
   "name": "python",
   "nbconvert_exporter": "python",
   "pygments_lexer": "ipython3",
   "version": "3.11.5"
  }
 },
 "nbformat": 4,
 "nbformat_minor": 4
}
