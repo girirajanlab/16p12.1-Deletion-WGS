{
 "cells": [
  {
   "cell_type": "code",
   "execution_count": null,
   "metadata": {
    "tags": [],
    "trusted": true,
    "vscode": {
     "languageId": "r"
    }
   },
   "outputs": [],
   "source": [
    "install.packages('devtools')\n",
    "devtools::install_github('PheWAS/PheWAS')"
   ]
  },
  {
   "cell_type": "code",
   "execution_count": null,
   "metadata": {
    "tags": [],
    "trusted": true,
    "vscode": {
     "languageId": "r"
    }
   },
   "outputs": [],
   "source": [
    "library(PheWAS)"
   ]
  },
  {
   "cell_type": "code",
   "execution_count": null,
   "metadata": {
    "vscode": {
     "languageId": "r"
    }
   },
   "outputs": [],
   "source": [
    "# Input and output data\n",
    "PHENO=\"/path/to/PheWAS/input/phenotypes.csv\" # Use the PheWAS_ICD_input.csv output of script 3_Data preparation/UKB/7_gather_phewas.ipynb\n",
    "COV=\"/path/to/PheWAS/input/phenotypes.csv\" # Use the PheWAS_covariates.csv output of script 3_Data preparation/UKB/7_gather_phewas.ipynb\n",
    "GENO=\"/path/to/PheWAS/input/phenotypes.csv\" # Use the PheWAS_genotype.csv output of script 3_Data preparation/UKB/7_gather_phewas.ipynb\n",
    "\n",
    "OUTPUT_DIR=\"/path/to/output/directory\"\n",
    "# Outputs will be (1) two CSV files with PheWAS results, one with and one without phecode annotations. The table with annotations is presented in Table S5J\n",
    "# and (2) a PDF of the resulting Manhattan plot as presented in Fig S5B"
   ]
  },
  {
   "cell_type": "code",
   "execution_count": null,
   "metadata": {
    "tags": [],
    "trusted": true,
    "vscode": {
     "languageId": "r"
    }
   },
   "outputs": [],
   "source": [
    "# Load data\n",
    "pheno <- read.csv(PHENO)\n",
    "cov <- read.csv(COV)\n",
    "geno <- read.csv(GENO)"
   ]
  },
  {
   "cell_type": "code",
   "execution_count": null,
   "metadata": {
    "vscode": {
     "languageId": "r"
    }
   },
   "outputs": [],
   "source": [
    "# Update some annotations\n",
    "pheno$vocabulary_id <- 'ICD10'\n",
    "pheno$index <- 1\n",
    "pheno <- pheno[, c('id', 'vocabulary_id', 'code', 'index')]\n",
    "pheno$id <- as.character(pheno$id)\n",
    "cov[cov$sex==1, 'sex'] <- 'M'\n",
    "cov[cov$sex==0, 'sex'] <- 'F'\n",
    "id_sex <- cov[, c('id', 'sex')]\n",
    "id_sex$id <- as.character(id_sex$id)"
   ]
  },
  {
   "cell_type": "code",
   "execution_count": null,
   "metadata": {
    "vscode": {
     "languageId": "r"
    }
   },
   "outputs": [],
   "source": [
    "# Map ICD10 codes to phecodes\n",
    "phe_df <- createPhenotypes(pheno, min.code.count=1, id.sex=id_sex,\n",
    "                           add.phecode.exclusions=T, translate=T, vocabulary.map=PheWAS::phecode_map_icd10)\n",
    "# Remove any duplicate rows\n",
    "phe_df <- phe_df[!duplicated(phe_df$id), ]"
   ]
  },
  {
   "cell_type": "code",
   "execution_count": null,
   "metadata": {
    "tags": [],
    "trusted": true,
    "vscode": {
     "languageId": "r"
    }
   },
   "outputs": [],
   "source": [
    "# Merge data\n",
    "dat <- merge(cov, geno, by='id')\n",
    "dat <- merge(dat, phe_df, by='id')\n",
    "\n",
    "phenos <- colnames(phe_df)\n",
    "phenos <- phenos[phenos!='id']"
   ]
  },
  {
   "cell_type": "code",
   "execution_count": null,
   "metadata": {
    "tags": [],
    "trusted": true,
    "vscode": {
     "languageId": "r"
    }
   },
   "outputs": [],
   "source": [
    "# Run PheWAS\n",
    "cores <- as.integer(detectCores()/2)\n",
    "res <- phewas(data=dat, phenotypes=phenos, genotypes='X16p12_del',\n",
    "                  covariates=c('yob', 'sex', 'PC1', 'PC2', 'PC3', 'PC4'),\n",
    "                  min.records=20, additive.genotypes=F, cores=cores)"
   ]
  },
  {
   "cell_type": "code",
   "execution_count": null,
   "metadata": {
    "vscode": {
     "languageId": "r"
    }
   },
   "outputs": [],
   "source": [
    "# Save results\n",
    "write.csv(res, 'PheWAS_res.csv', quote=T, row.names=F)\n",
    "system(paste('dx upload PheWAS_res.csv --path', OUTPUT_DIR, '/PheWAS_res.csv', sep=''))"
   ]
  },
  {
   "cell_type": "code",
   "execution_count": null,
   "metadata": {
    "tags": [],
    "trusted": true,
    "vscode": {
     "languageId": "r"
    }
   },
   "outputs": [],
   "source": [
    "res$phenotype <- gsub('X', '', res$phenotype)"
   ]
  },
  {
   "cell_type": "code",
   "execution_count": null,
   "metadata": {
    "vscode": {
     "languageId": "r"
    }
   },
   "outputs": [],
   "source": [
    "# Annotate Phewas descriptions\n",
    "res_d <- addPhecodeInfo(res)\n",
    "\n",
    "# Order and save\n",
    "res_d <- res_d[order(res_d$p),]\n",
    "print(res_d[1:10, 1:10])\n",
    "write.csv(res_d, '2_PheWAS_annotated_results.csv', quote=T, row.names=F)\n",
    "\n",
    "system(paste('dx upload PheWAS_annotated_results.csv --path', OUTPUT_DIR, '/PheWAS_annotated_results.csv', sep=''))"
   ]
  },
  {
   "cell_type": "code",
   "execution_count": null,
   "metadata": {
    "tags": [],
    "trusted": true,
    "vscode": {
     "languageId": "r"
    }
   },
   "outputs": [],
   "source": [
    "# Make Manhattan plot\n",
    "pdf(\"UKB_PheWAS_Manhattan.pdf\", width=10, height=5)\n",
    "phewasManhattan(res, title='UKB 16p12.1 deletion PheWAS')\n",
    "dev.off()"
   ]
  },
  {
   "cell_type": "code",
   "execution_count": null,
   "metadata": {
    "tags": [],
    "trusted": true,
    "vscode": {
     "languageId": "r"
    }
   },
   "outputs": [],
   "source": [
    "# Upload output\n",
    "system(paste('dx upload UKB_PheWAS_Manhattan.pdf --path', OUTPUT_DIR, '/UKB_PheWAS_Manhattan.pdf', sep=''))"
   ]
  }
 ],
 "metadata": {
  "kernelspec": {
   "display_name": "R",
   "language": "R",
   "name": "ir"
  },
  "language_info": {
   "codemirror_mode": "r",
   "file_extension": ".r",
   "mimetype": "text/x-r-source",
   "name": "R",
   "pygments_lexer": "r",
   "version": "4.4.0"
  }
 },
 "nbformat": 4,
 "nbformat_minor": 4
}
