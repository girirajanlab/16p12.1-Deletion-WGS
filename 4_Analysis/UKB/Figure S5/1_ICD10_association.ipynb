{
 "cells": [
  {
   "cell_type": "code",
   "execution_count": null,
   "metadata": {
    "tags": [],
    "trusted": true
   },
   "outputs": [],
   "source": [
    "pip install statsmodels"
   ]
  },
  {
   "cell_type": "code",
   "execution_count": null,
   "metadata": {
    "tags": [],
    "trusted": true
   },
   "outputs": [],
   "source": [
    "import pandas as pd\n",
    "import numpy as np\n",
    "\n",
    "import scipy.stats as stats\n",
    "import statsmodels.api as sm\n",
    "from statsmodels.stats.multitest import fdrcorrection\n",
    "\n",
    "import matplotlib\n",
    "import matplotlib.pyplot as plt\n",
    "import seaborn as sns\n",
    "\n",
    "matplotlib.rcParams['pdf.fonttype'] = 42\n",
    "\n",
    "import os\n",
    "import dxpy"
   ]
  },
  {
   "cell_type": "code",
   "execution_count": null,
   "metadata": {},
   "outputs": [],
   "source": [
    "# Input and output files\n",
    "ICD_CHAPTER_DIR=\"/path/to/ICD/Chapter/data\" # Use the output directory of script 3_Data preparation/UKB/5_parse_ICD10.ipynb\n",
    "BURDEN_DIR=\"/path/to/UKB/burden/tables\" # Use the output directory of script 3_Data_preparation/UKB/3_identify_samples.ipynb\n",
    "OUTPUT_DIR=\"/path/to/output/directory\"\n",
    "# Output will be (1) a CSV file with regression statistics as presented in Table S5I\n",
    "# and (2) a PDF showing ICD chapters associated with 16p12.1 deletion as presented in Fig S5A"
   ]
  },
  {
   "cell_type": "code",
   "execution_count": null,
   "metadata": {
    "tags": [],
    "trusted": true
   },
   "outputs": [],
   "source": [
    "# Load ICD10 Chapters\n",
    "df=pd.read_csv(f'{ICD_CHAPTER_DIR}/ICD10_16p12_Chapter.csv')\n",
    "df['Case_Control']='16p12.1 deletion'\n",
    "df2=pd.read_csv(f'{ICD_CHAPTER_DIR}/ICD10_control_Chapter.csv')\n",
    "df2['Case_Control']='Control'\n",
    "df=pd.concat([df, df2])"
   ]
  },
  {
   "cell_type": "code",
   "execution_count": null,
   "metadata": {
    "tags": [],
    "trusted": true
   },
   "outputs": [],
   "source": [
    "# Load sex and YOB information\n",
    "pdf=pd.read_csv(f'{BURDEN_DIR}/16p_burden.csv')\n",
    "pdf2=pd.read_csv(f'{BURDEN_DIR}/control_burden.csv')\n",
    "pdf=pd.concat([pdf, pdf2])\n",
    "pdf=pdf[['Sample', 'YOB', 'Sex']]"
   ]
  },
  {
   "cell_type": "code",
   "execution_count": null,
   "metadata": {
    "tags": [],
    "trusted": true
   },
   "outputs": [],
   "source": [
    "df=pd.merge(df, pdf, on='Sample', how='left')"
   ]
  },
  {
   "cell_type": "code",
   "execution_count": null,
   "metadata": {
    "tags": [],
    "trusted": true
   },
   "outputs": [],
   "source": [
    "# Identify significant associations of the 16p12.1 deletion with ICD10 chapters using logistic regression\n",
    "phenos=['Neoplasms', 'Blood', 'Endocrine/Metabolic', 'Mental/behavioral disorders', 'Nervous system',\n",
    "        'Eye', 'Ear', 'Circulatory system', 'Respiratory system', 'Digestive system', 'Skin/subcutaeous tissue',\n",
    "        'Musc. system/connective tissue', 'Genitourinary system', 'Pregnancy/childbirth', 'Congenital malformations']\n",
    "# Normalize YOB\n",
    "df['YOB']=(df['YOB']-df['YOB'].mean(skipna=True))/df['YOB'].std(skipna=True)\n",
    "# Binarize Case_Control status\n",
    "df['Case_Control']=df.Case_Control.map({'16p12.1 deletion':1, 'Control':0})"
   ]
  },
  {
   "cell_type": "code",
   "execution_count": null,
   "metadata": {
    "tags": [],
    "trusted": true
   },
   "outputs": [],
   "source": [
    "def run_model(moddf, input_vars, output_col):\n",
    "    X=sm.add_constant(moddf[input_vars].to_numpy())\n",
    "    mod=sm.Logit(moddf[output_col].to_numpy(), X)\n",
    "    \n",
    "    res=mod.fit(maxiter=5000)\n",
    "\n",
    "    # Parse model\n",
    "    num_vars=len(input_vars)+1\n",
    "    ci=res.conf_int(alpha=0.05)\n",
    "    r2=res.prsquared\n",
    "\n",
    "    res_dict={'Phenotype':[output_col]*num_vars, 'Variable':['Intercept']+input_vars, 'Test':['Logistic regression']*num_vars, 'N':[moddf.shape[0]]*num_vars,\n",
    "              'Estimate':res.params, 'Error':res.bse, '95% C.I. lower':[i[0] for i in ci], '95% C.I. upper':[i[1] for i in ci], 'p value':res.pvalues, 'R2':[r2]*num_vars}\n",
    "    mod_res=pd.DataFrame(res_dict)\n",
    "    \n",
    "    return mod_res"
   ]
  },
  {
   "cell_type": "code",
   "execution_count": null,
   "metadata": {
    "tags": [],
    "trusted": true
   },
   "outputs": [],
   "source": [
    "outdf=pd.DataFrame(columns=['Phenotype', 'Variable', 'Test', 'Estimate', 'Error', '95% C.I. lower', '95% C.I. upper', 'p value', 'R2'])\n",
    "for pheno in phenos:\n",
    "    print(pheno)\n",
    "    # Get model inputs\n",
    "    input_cols=['Sex', 'YOB', 'Case_Control']\n",
    "    moddf=df[~df[input_cols+[pheno]].isnull().any(axis=1)].copy()\n",
    "\n",
    "    # Remove sex as input for female-specific phenotypes\n",
    "    if pheno=='Pregnancy/childbirth':\n",
    "        input_cols=['YOB', 'Case_Control']\n",
    "\n",
    "    # Scale age\n",
    "    moddf['YOB']=(moddf['YOB']-moddf['YOB'].mean())/moddf['YOB'].std()\n",
    "    \n",
    "    out=run_model(moddf, input_cols, pheno)\n",
    "    outdf=pd.concat([outdf, out])"
   ]
  },
  {
   "cell_type": "code",
   "execution_count": null,
   "metadata": {
    "tags": [],
    "trusted": true
   },
   "outputs": [],
   "source": [
    "# FDR correction\n",
    "outdf['BH FDR']=np.nan\n",
    "outdf.loc[outdf.Variable=='Case_Control', 'BH FDR']=fdrcorrection(outdf[outdf.Variable=='Case_Control']['p value'].to_numpy())[1]"
   ]
  },
  {
   "cell_type": "code",
   "execution_count": null,
   "metadata": {
    "tags": [],
    "trusted": true
   },
   "outputs": [],
   "source": [
    "# Save results\n",
    "outdf.to_csv('ICD_regressions.csv', index=False)\n",
    "dxpy.upload_local_file('ICD_regressions.csv', folder=OUTPUT_DIR, parents=True)\n",
    "os.remove('ICD_regressions.csv')"
   ]
  },
  {
   "cell_type": "code",
   "execution_count": null,
   "metadata": {
    "tags": [],
    "trusted": true
   },
   "outputs": [],
   "source": [
    "# Make a volcano plot of significant results\n",
    "outdf=outdf[outdf.Variable=='Case_Control']\n",
    "outdf['log10p']=-np.log10(outdf['p value'])\n",
    "\n",
    "sns.scatterplot(outdf[outdf['BH FDR']>=0.05], x='Estimate', y='log10p', hue='Phenotype', hue_order=phenos, alpha=1, palette=sns.color_palette(\"Spectral\", n_colors=15), legend=False)\n",
    "sns.scatterplot(outdf[outdf['BH FDR']<=0.05], x='Estimate', y='log10p', hue='Phenotype', hue_order=phenos, alpha=1, palette=sns.color_palette(\"Spectral\",  n_colors=15), legend=False, edgecolor='k')\n",
    "\n",
    "# Add lines and term names\n",
    "for idx, row in outdf.iterrows():\n",
    "    # Add labels if significant\n",
    "    if row['BH FDR']<=0.05:\n",
    "        plt.text(row['Estimate'], row['log10p']+0.1, row['Phenotype'], ha='center', fontsize=5)\n",
    "plt.tight_layout()\n",
    "plt.savefig('ICD10_enrichment.pdf')\n",
    "plt.close()"
   ]
  },
  {
   "cell_type": "code",
   "execution_count": null,
   "metadata": {
    "tags": [],
    "trusted": true
   },
   "outputs": [],
   "source": [
    "# Save plot\n",
    "dxpy.upload_local_file('ICD10_enrichment.pdf', folder=OUTPUT_DIR, parents=True)\n",
    "os.remove('ICD10_enrichment.pdf')"
   ]
  }
 ],
 "metadata": {
  "kernelspec": {
   "display_name": "Python 3 (ipykernel)",
   "language": "python",
   "name": "python3"
  },
  "language_info": {
   "codemirror_mode": {
    "name": "ipython",
    "version": 3
   },
   "file_extension": ".py",
   "mimetype": "text/x-python",
   "name": "python",
   "nbconvert_exporter": "python",
   "pygments_lexer": "ipython3",
   "version": "3.11.5"
  }
 },
 "nbformat": 4,
 "nbformat_minor": 4
}
