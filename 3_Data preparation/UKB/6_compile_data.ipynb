{
 "cells": [
  {
   "cell_type": "code",
   "execution_count": 1,
   "metadata": {
    "tags": [],
    "trusted": true
   },
   "outputs": [],
   "source": [
    "import pandas as pd\n",
    "import dxpy\n",
    "import os"
   ]
  },
  {
   "cell_type": "code",
   "execution_count": null,
   "metadata": {},
   "outputs": [],
   "source": [
    "# Input and output files\n",
    "BURDEN_16P=\"/path/to/input/16p12/sample/burden.csv\" # Use the output for 16p12.1 deletion samples from script 3_identify_samples.ipynb\n",
    "PRS_PATH=\"/path/to/UKB/16p12/PRS/data.csv\" # Use the ouput of Variant calling/UKB/3_PRS/6_merge_scores.py\n",
    "QUESTIONNAIRE_PATH=\"/path/to/questionnaire/interpretation.csv\" # Use the output of script 4_parse_phenotypes.ipynb\n",
    "ICD_PATH=\"/path/to/parsed/ICD10/data.csv\" # Use the final output of script 5_parse_ICD10.ipynb \n",
    "ICD_CHAPTER=\"/path/to/parsed/ICD10/chapters.csv\" # Use the ICD10 chapter output of script 5_parse_ICD10.ipynb \n",
    "OUTPUT_PATH=\"/path/to/output/files\""
   ]
  },
  {
   "cell_type": "code",
   "execution_count": null,
   "metadata": {
    "tags": [],
    "trusted": true
   },
   "outputs": [],
   "source": [
    "# Compile all the 16p12.1 deletion sample data into a single file\n",
    "df=pd.read_csv(BURDEN_16P)"
   ]
  },
  {
   "cell_type": "code",
   "execution_count": null,
   "metadata": {
    "tags": [],
    "trusted": true
   },
   "outputs": [],
   "source": [
    "# Add PRS\n",
    "prs=pd.read_csv(PRS_PATH)\n",
    "prs['Sample']=prs.IID\n",
    "prs=prs[['Sample', 'autism_PRS', 'intelligence_PRS', 'educational_attainment_PRS', 'schizophrenia_PRS']]\n",
    "prs.columns=['Sample', 'Autism PRS', 'Intelligence PRS', 'Education PRS', 'SCZ PRS']\n",
    "\n",
    "df=pd.merge(df, prs, on='Sample', how='left')"
   ]
  },
  {
   "cell_type": "code",
   "execution_count": null,
   "metadata": {
    "tags": [],
    "trusted": true
   },
   "outputs": [],
   "source": [
    "# Add in questionnaire phenotypes\n",
    "quest=pd.read_csv(QUESTIONNAIRE_PATH)\n",
    "quest.columns=['Sample', 'Depression', 'Sleep trouble', 'Mood lability', 'Anxiety', 'Addiction', 'Psychosis']\n",
    "\n",
    "df=pd.merge(df, quest, on='Sample', how='left')"
   ]
  },
  {
   "cell_type": "code",
   "execution_count": null,
   "metadata": {
    "tags": [],
    "trusted": true
   },
   "outputs": [],
   "source": [
    "# Add in ICD10 phenotypes\n",
    "icd=pd.read_csv(ICD_PATH)\n",
    "icd.columns=['Sample', 'Sleep trouble (ICD10)', 'Addiction (ICD10)', 'Depression (ICD10)', 'Anxiety (ICD10)', 'Psychosis (ICD10)']\n",
    "\n",
    "df=pd.merge(df, icd, on='Sample', how='left')"
   ]
  },
  {
   "cell_type": "code",
   "execution_count": null,
   "metadata": {
    "tags": [],
    "trusted": true
   },
   "outputs": [],
   "source": [
    "# Add in ICD10 Chapters\n",
    "chapdf=pd.read_csv(ICD_CHAPTER)\n",
    "df=pd.merge(df, chapdf, on='Sample', how='left')"
   ]
  },
  {
   "cell_type": "code",
   "execution_count": null,
   "metadata": {
    "tags": [],
    "trusted": true
   },
   "outputs": [],
   "source": [
    "# Save\n",
    "df=df[['Sample', 'YOB', 'Sex',\n",
    "       'All coding SNVs', 'All coding SNVs (LF)', 'Missense', 'Missense (LF)', 'LOF', 'LOF (LF)', 'Splice', 'Splice (LF)',\n",
    "       'Genes del.', 'Genes del. (LF)', 'Genes dup.', 'Genes dup. (LF)',\n",
    "       'Intelligence PRS', 'SCZ PRS', 'Education PRS', 'Autism PRS',\n",
    "       'Depression', 'Sleep trouble', 'Mood lability', 'Anxiety', 'Addiction', 'Psychosis',\n",
    "       'Sleep trouble (ICD10)', 'Addiction (ICD10)', 'Depression (ICD10)', 'Anxiety (ICD10)', 'Psychosis (ICD10)',\n",
    "       'Neoplasms', 'Blood', 'Endocrine/Metabolic', 'Mental/behavioral disorders', 'Nervous system', 'Eye',\n",
    "       'Ear', 'Circulatory system', 'Respiratory system', 'Digestive system', 'Skin/subcutaeous tissue',\n",
    "       'Musc. system/connective tissue', 'Genitourinary system', 'Pregnancy/childbirth', 'Congenital malformations']]\n",
    "df.to_csv('UKB.csv', index=False)\n",
    "dxpy.upload_local_file('UKB.csv', folder=OUTPUT_PATH, parents=True)\n",
    "os.remove('UKB.csv')"
   ]
  }
 ],
 "metadata": {
  "kernelspec": {
   "display_name": "Python 3 (ipykernel)",
   "language": "python",
   "name": "python3"
  },
  "language_info": {
   "codemirror_mode": {
    "name": "ipython",
    "version": 3
   },
   "file_extension": ".py",
   "mimetype": "text/x-python",
   "name": "python",
   "nbconvert_exporter": "python",
   "pygments_lexer": "ipython3",
   "version": "3.9.16"
  }
 },
 "nbformat": 4,
 "nbformat_minor": 4
}
