{
 "cells": [
  {
   "cell_type": "code",
   "execution_count": null,
   "metadata": {
    "tags": [],
    "trusted": true
   },
   "outputs": [],
   "source": [
    "import pandas as pd\n",
    "import os\n",
    "import dxpy"
   ]
  },
  {
   "cell_type": "code",
   "execution_count": null,
   "metadata": {},
   "outputs": [],
   "source": [
    "# Input and output files\n",
    "PHENO=\"/path/to/input/phenotype/data.csv\" # Use the output of script 2_gather_sample_data.ipynb\n",
    "CNV_INPUT=\"/path/to/input/cnvs.bed\" # Use tht ouput from script Variant calling/UKB/2_CNV_annotation/6_frequency_filter.py\n",
    "CNV_QC_INPUT=\"/path/to/input/cnv/qc/data.csv\" # Use the QC file ouput from Variant calling/UKB/2_CNV_annotation/2_check_QC.py\n",
    "WITHDRAWN_CONSENT=\"/path/to/file/with/samples/that/withdrew/consent.csv\" # After initial analysis, we were informed some samples withdrew consent\n",
    "DATA_CODING_19_PATH=\"/path/to/coding19.tsv\" # UKB ICD10 phenotypes are encoded using Data-coding 19\n",
    "OUTPUT_PATH=\"/path/to/output/files\""
   ]
  },
  {
   "cell_type": "code",
   "execution_count": null,
   "metadata": {
    "tags": [],
    "trusted": true
   },
   "outputs": [],
   "source": [
    "# Create files for performing PheWAS\n",
    "pheno=pd.read_csv(PHENO)\n",
    "# Rename columns\n",
    "field_name_dict = {'Sample':'eid', 'yob':'p34', 'sex':'p22001',\n",
    "                    'white_british_genetic':'p22006',\n",
    "                    'ethnic_background1':'p21000_i0', 'ethnic_background2':'p21000_i1', 'ethnic_background3':'p21000_i2', 'ethnic_background4':'p21000_i3',\n",
    "                    'recommend_for_exclusion':'p22010',\n",
    "                    'icd10':'p41270',\n",
    "                    'depressed_mood':'p20446', 'lost_interest':'p20441',\n",
    "                    'sleep_trouble1':'p1200_i0', 'sleep_trouble2':'p1200_i1', 'sleep_trouble3':'p1200_i2', 'sleep_trouble4':'p1200_i3',\n",
    "                    'mood_lability1':'p1920_i0', 'mood_lability2':'p1920_i1', 'mood_lability3':'p1920_i2', 'mood_lability4':'p1920_i3',\n",
    "                    'anxious_feeling':'p20421', 'worried_more':'p20425', 'drugs_for_anxiety':'p20549', 'anxiety_interferes_life':'p20418',\n",
    "                    'drinking_interferes_life':'p20407', 'unable_stop_drinking':'p20413', 'drug_addiction':'p20456',\n",
    "                    'unreal_sounds':'p20463', 'unreal_visions':'p20471', 'conspiracy':'p20468'\n",
    "}\n",
    "for i in range(1, 11):\n",
    "    field_name_dict['PC'+str(i)]='p22009_a'+str(i)\n",
    "inv_map = {v: k for k, v in field_name_dict.items()}\n",
    "cols=[inv_map[i] for i in pheno.columns.to_list()]\n",
    "pheno.columns=cols"
   ]
  },
  {
   "cell_type": "code",
   "execution_count": null,
   "metadata": {
    "tags": [],
    "trusted": true
   },
   "outputs": [],
   "source": [
    "# Identify 16p12.1 deletion samples and any other samples that passed microarray QC\n",
    "cnvs=pd.read_csv(CNV_INPUT, sep='\\t')\n",
    "cnvs['Sample']=cnvs.Sample.astype(int)\n",
    "\n",
    "samp_16p=cnvs[(cnvs.Pathogenic_Name=='16p12.1') & (cnvs.Type=='DEL')].Sample.to_list()\n",
    "cnv_qc=pd.read_csv(CNV_QC_INPUT, sep='\\t', low_memory=False)\n",
    "cnv_qc=cnv_qc[(cnv_qc.Pass) & (cnv_qc.X_Pass)]\n",
    "cnv_qc['Sample']=cnv_qc.File.str.split('/', expand=True)[-1].str.split('_', expand=True)[0].astype(int)\n",
    "\n",
    "cnv_qc['16p12_del']=0\n",
    "cnv_qc.loc[cnv_qc.Sample.isin(samp_16p), '16p12_del']=1"
   ]
  },
  {
   "cell_type": "code",
   "execution_count": null,
   "metadata": {
    "tags": [],
    "trusted": true
   },
   "outputs": [],
   "source": [
    "# Remove any samples that do not have white british ancestry\n",
    "pheno=pheno[pheno.white_british_genetic==1]\n",
    "\n",
    "# Remove any samples that could not be assessed for CNVs\n",
    "pheno=pheno[pheno.Sample.isin(cnv_qc.Sample.to_list())][['Sample', 'yob', 'sex', 'icd10', 'PC1', 'PC2', 'PC3', 'PC4']]\n",
    "pheno=pheno[~pheno.icd10.isnull()]\n",
    "\n",
    "# Remove any samples with withdrawn consent\n",
    "withdrawl=pd.read_csv(WITHDRAWN_CONSENT, header=None, names=['Sample'])\n",
    "pheno=pheno[(~pheno.Sample.isin(withdrawl.Sample.to_list()))]"
   ]
  },
  {
   "cell_type": "code",
   "execution_count": 5,
   "metadata": {
    "tags": [],
    "trusted": true
   },
   "outputs": [],
   "source": [
    "# Explode by ICD10\n",
    "pheno.icd10=pheno.icd10.str.replace('[', '', regex=False).str.replace(']', '', regex=False)\n",
    "pheno['coding']=pheno.icd10.str.split(', ')\n",
    "icd10=pheno.explode('coding')"
   ]
  },
  {
   "cell_type": "code",
   "execution_count": null,
   "metadata": {
    "tags": [],
    "trusted": true
   },
   "outputs": [],
   "source": [
    "# Map coding to ICD10 codes\n",
    "coding=pd.read_csv(DATA_CODING_19_PATH, sep='\\t')\n",
    "icd10=pd.merge(icd10, coding, on='coding', how='left')"
   ]
  },
  {
   "cell_type": "code",
   "execution_count": 7,
   "metadata": {
    "tags": [],
    "trusted": true
   },
   "outputs": [],
   "source": [
    "icd10['code']=icd10.meaning.str.split(' ', expand=True)[0]\n",
    "icd10['count']=1\n",
    "icd10['vocabulary_id']='ICD10'"
   ]
  },
  {
   "cell_type": "code",
   "execution_count": null,
   "metadata": {
    "tags": [],
    "trusted": true
   },
   "outputs": [],
   "source": [
    "# Save just the codes for PheWAS\n",
    "icd10['id']=icd10.Sample\n",
    "icd10[['id', 'code', 'count', 'vocabulary_id']].to_csv('PheWAS_ICD_input.csv', index=False)\n",
    "dxpy.upload_local_file('PheWAS_ICD_input.csv', folder=OUTPUT_PATH, parents=True)\n",
    "os.remove('PheWAS_ICD_input.csv')"
   ]
  },
  {
   "cell_type": "code",
   "execution_count": null,
   "metadata": {
    "tags": [],
    "trusted": true
   },
   "outputs": [],
   "source": [
    "# Save the covariate information\n",
    "cov=pheno[['Sample', 'yob', 'sex', 'PC1', 'PC2', 'PC3', 'PC4']].copy()\n",
    "cov['id']=cov.Sample\n",
    "cov[['id', 'yob', 'sex', 'PC1', 'PC2', 'PC3', 'PC4']].to_csv('PheWAS_covariates.csv', index=False)\n",
    "dxpy.upload_local_file('PheWAS_covariates.csv', folder=OUTPUT_PATH, parents=True)\n",
    "os.remove('PheWAS_covariates.csv')"
   ]
  },
  {
   "cell_type": "code",
   "execution_count": null,
   "metadata": {
    "tags": [],
    "trusted": true
   },
   "outputs": [],
   "source": [
    "# Save the genotype information\n",
    "geno=pd.merge(cov, cnv_qc[['Sample', '16p12_del']], on='Sample', how='left')\n",
    "geno[['id', '16p12_del']].to_csv('PheWAS_genotype.csv', index=False)\n",
    "dxpy.upload_local_file('PheWAS_genotype.csv', folder=OUTPUT_PATH, parents=True)\n",
    "os.remove('PheWAS_genotype.csv')"
   ]
  }
 ],
 "metadata": {
  "kernelspec": {
   "display_name": "Python 3 (ipykernel)",
   "language": "python",
   "name": "python3"
  },
  "language_info": {
   "codemirror_mode": {
    "name": "ipython",
    "version": 3
   },
   "file_extension": ".py",
   "mimetype": "text/x-python",
   "name": "python",
   "nbconvert_exporter": "python",
   "pygments_lexer": "ipython3",
   "version": "3.9.16"
  }
 },
 "nbformat": 4,
 "nbformat_minor": 4
}
