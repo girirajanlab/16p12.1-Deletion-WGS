{
 "cells": [
  {
   "cell_type": "code",
   "execution_count": null,
   "metadata": {
    "tags": [],
    "trusted": true
   },
   "outputs": [],
   "source": [
    "pip install bgzip"
   ]
  },
  {
   "cell_type": "code",
   "execution_count": 2,
   "metadata": {
    "tags": [],
    "trusted": true
   },
   "outputs": [],
   "source": [
    "import pandas as pd\n",
    "import dxpy\n",
    "import os\n",
    "import bgzip"
   ]
  },
  {
   "cell_type": "code",
   "execution_count": null,
   "metadata": {},
   "outputs": [],
   "source": [
    "# Input and output files\n",
    "INPUT=\"/path/to/input/burden.tsv\" # This file was generated as described https://github.com/deeprob/BMI_monogenic/blob/main/src/genetic_data_processing/burden_preparation/dnanexus_notebooks/0_prepare_burden_file.ipynb\n",
    "CNV_PATH=\"/path/to/CNV/calls\" \n",
    "CNV_FILE='cnv_calls.csv' # Use tht ouput from script 1_Variant calling/UKB/2_CNV_annotation/9_annotate_loeuf.py\n",
    "OUTPUT_DIR='/path/to/output/directory'\n",
    "OUTPUT_SNV=\"output_snv_burden_filename.csv\"\n",
    "OUTPUT_CNV=\"output_cnv_burden_filename.csv\""
   ]
  },
  {
   "cell_type": "code",
   "execution_count": null,
   "metadata": {
    "tags": [],
    "trusted": true
   },
   "outputs": [],
   "source": [
    "# Parse burden data for relevant samples\n",
    "df=pd.read_csv(INPUT, sep='\\t', compression='gzip')\n",
    "\n",
    "# Annotate variant types\n",
    "df['Variant_type']=''\n",
    "df.loc[df.splice_lof, 'Variant_type']='splice'\n",
    "df.loc[df.missense, 'Variant_type']='missense'\n",
    "df.loc[df.lof, 'Variant_type']='lof'\n",
    "\n",
    "df=df[['gene', 'Variant_type', 'samples', 'variants']]\n",
    "df.loc[df.gene.isnull(), 'gene']=''"
   ]
  },
  {
   "cell_type": "code",
   "execution_count": 4,
   "metadata": {
    "tags": [],
    "trusted": true
   },
   "outputs": [],
   "source": [
    "# Collapse by variant\n",
    "df=df[['gene', 'Variant_type', 'samples', 'variants']].groupby('variants').agg(lambda x: ','.join(list(set(x))))\n",
    "df.reset_index(inplace=True)"
   ]
  },
  {
   "cell_type": "code",
   "execution_count": 5,
   "metadata": {
    "tags": [],
    "trusted": true
   },
   "outputs": [],
   "source": [
    "# Re-annotate variant type\n",
    "df['vtype']=''\n",
    "df.loc[df.Variant_type.str.contains('splice'), 'vtype']='splice'\n",
    "df.loc[df.Variant_type.str.contains('missense'), 'vtype']='missense'\n",
    "df.loc[df.Variant_type.str.contains('lof'), 'vtype']='lof'"
   ]
  },
  {
   "cell_type": "code",
   "execution_count": null,
   "metadata": {
    "tags": [],
    "trusted": true
   },
   "outputs": [],
   "source": [
    "# Annotate with LOEUF\n",
    "# The gnomad LOUEF annotations can be downloaded from gnomAD here: https://gnomad.broadinstitute.org/data#v2-constraint\n",
    "with open('/path/to/gnomad.v2.1.1.lof_metrics.by_gene.txt.bgz', \"rb\") as raw:\n",
    "    with bgzip.BGZipReader(raw) as fh:\n",
    "        loeuf = pd.read_csv(fh, sep=\"\\t\")\n",
    "loeuf=loeuf[['gene', 'oe_lof_upper']]\n",
    "\n",
    "df=pd.merge(df, loeuf, on='gene')\n",
    "df['low_loeuf']=df.oe_lof_upper<=0.35"
   ]
  },
  {
   "cell_type": "code",
   "execution_count": 7,
   "metadata": {
    "tags": [],
    "trusted": true
   },
   "outputs": [],
   "source": [
    "# Collapse table by variant\n",
    "df['Sample']=df.samples.str.split(',')\n",
    "\n",
    "sampdf=df.explode('Sample')\n",
    "\n",
    "burden=sampdf[['Sample', 'vtype', 'variants', 'low_loeuf']].groupby(['Sample', 'vtype', 'low_loeuf']).agg('count')\n",
    "burden.reset_index(inplace=True)"
   ]
  },
  {
   "cell_type": "code",
   "execution_count": 8,
   "metadata": {
    "tags": [],
    "trusted": true
   },
   "outputs": [],
   "source": [
    "# Pivot\n",
    "burden['column']=''\n",
    "burden.loc[(burden.vtype=='lof') & ~(burden.low_loeuf), 'column']='LOF'\n",
    "burden.loc[(burden.vtype=='lof') & (burden.low_loeuf), 'column']='LOF_LF'\n",
    "burden.loc[(burden.vtype=='missense') & ~(burden.low_loeuf), 'column']='Missense'\n",
    "burden.loc[(burden.vtype=='missense') & (burden.low_loeuf), 'column']='Missense_LF'\n",
    "burden.loc[(burden.vtype=='splice') & ~(burden.low_loeuf), 'column']='Splice'\n",
    "burden.loc[(burden.vtype=='splice') & (burden.low_loeuf), 'column']='Splice_LF'\n",
    "\n",
    "burddf=burden.pivot(index='Sample', columns='column', values='variants')"
   ]
  },
  {
   "cell_type": "code",
   "execution_count": 9,
   "metadata": {
    "tags": [],
    "trusted": true
   },
   "outputs": [],
   "source": [
    "# Clean up\n",
    "burddf.fillna(0, inplace=True)\n",
    "burddf=burddf.astype(int)\n",
    "burddf.reset_index(inplace=True)"
   ]
  },
  {
   "cell_type": "code",
   "execution_count": 10,
   "metadata": {
    "tags": [],
    "trusted": true
   },
   "outputs": [],
   "source": [
    "# Add LF counts to non-LF counts\n",
    "for vtype in ['Missense', 'LOF', 'Splice']:\n",
    "    burddf[vtype]=burddf[vtype]+burddf[vtype+'_LF']"
   ]
  },
  {
   "cell_type": "code",
   "execution_count": 11,
   "metadata": {
    "tags": [],
    "trusted": true
   },
   "outputs": [],
   "source": [
    "# Add an All coding SNVs columns (sum of missense, lof, and splice)\n",
    "burddf['All_coding_SNVs']=burddf[['Missense', 'LOF', 'Splice']].sum(axis=1)\n",
    "burddf['All_coding_SNVs_LF']=burddf[['Missense_LF', 'LOF_LF', 'Splice_LF']].sum(axis=1)"
   ]
  },
  {
   "cell_type": "code",
   "execution_count": null,
   "metadata": {
    "tags": [],
    "trusted": true
   },
   "outputs": [],
   "source": [
    "# Save\n",
    "burddf.to_csv(OUTPUT_SNV, index=False)\n",
    "dxpy.upload_local_file(OUTPUT_SNV, folder=OUTPUT_DIR, parents=True)\n",
    "os.remove(OUTPUT_SNV)"
   ]
  },
  {
   "cell_type": "code",
   "execution_count": null,
   "metadata": {
    "tags": [],
    "trusted": true
   },
   "outputs": [],
   "source": [
    "# CNVs\n",
    "cnv=pd.read_csv(CNV_FILE, sep='\\t')\n",
    "cnv=cnv[cnv.Sample>0]\n",
    "cnv=cnv[~((cnv['Pathogenic']=='16p12.1') & (cnv['Type']=='DEL'))]\n",
    "cnv['low_loeuf']=cnv.LOEUF<=0.35"
   ]
  },
  {
   "cell_type": "code",
   "execution_count": 15,
   "metadata": {
    "tags": [],
    "trusted": true
   },
   "outputs": [],
   "source": [
    "burden=cnv[['Sample', 'Type', 'low_loeuf', 'Gene_ID']].groupby(['Sample', 'Type', 'low_loeuf']).agg('count')\n",
    "burden.reset_index(inplace=True)\n",
    "\n",
    "# Pivot\n",
    "burden['column']=''\n",
    "burden.loc[(burden['Type']=='DEL') & ~(burden.low_loeuf), 'column']='Genes_del'\n",
    "burden.loc[(burden['Type']=='DEL') & (burden.low_loeuf), 'column']='Genes_del_LF'\n",
    "burden.loc[(burden['Type']=='DUP') & ~(burden.low_loeuf), 'column']='Genes_dup'\n",
    "burden.loc[(burden['Type']=='DUP') & (burden.low_loeuf), 'column']='Genes_dup_LF'\n",
    "\n",
    "burddf=burden.pivot(index='Sample', columns='column', values='Gene_ID')"
   ]
  },
  {
   "cell_type": "code",
   "execution_count": 16,
   "metadata": {
    "tags": [],
    "trusted": true
   },
   "outputs": [],
   "source": [
    "# Clean up\n",
    "burddf.fillna(0, inplace=True)\n",
    "burddf=burddf.astype(int)\n",
    "burddf.reset_index(inplace=True)\n",
    "\n",
    "# Add LF counts to non-LF counts\n",
    "for vtype in ['Genes_del', 'Genes_dup']:\n",
    "    burddf[vtype]=burddf[vtype]+burddf[vtype+'_LF']"
   ]
  },
  {
   "cell_type": "code",
   "execution_count": null,
   "metadata": {
    "tags": [],
    "trusted": true
   },
   "outputs": [],
   "source": [
    "# Save\n",
    "burddf.to_csv(OUTPUT_CNV, index=False)\n",
    "dxpy.upload_local_file(OUTPUT_CNV, folder=OUTPUT_DIR, parents=True)\n",
    "os.remove(OUTPUT_CNV)"
   ]
  }
 ],
 "metadata": {
  "kernelspec": {
   "display_name": "Python 3 (ipykernel)",
   "language": "python",
   "name": "python3"
  },
  "language_info": {
   "codemirror_mode": {
    "name": "ipython",
    "version": 3
   },
   "file_extension": ".py",
   "mimetype": "text/x-python",
   "name": "python",
   "nbconvert_exporter": "python",
   "pygments_lexer": "ipython3",
   "version": "3.9.16"
  }
 },
 "nbformat": 4,
 "nbformat_minor": 4
}
