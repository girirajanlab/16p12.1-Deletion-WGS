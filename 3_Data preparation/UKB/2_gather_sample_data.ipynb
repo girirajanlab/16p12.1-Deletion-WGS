{
 "cells": [
  {
   "cell_type": "code",
   "execution_count": 1,
   "metadata": {
    "tags": [],
    "trusted": true
   },
   "outputs": [],
   "source": [
    "import pyspark\n",
    "import dxpy\n",
    "import dxdata\n",
    "from pyspark.sql.functions import array_join\n",
    "import pyspark.sql.functions as F\n",
    "import os"
   ]
  },
  {
   "cell_type": "code",
   "execution_count": 2,
   "metadata": {
    "tags": [],
    "trusted": true
   },
   "outputs": [],
   "source": [
    "# Spark initialization (Done only once; do not rerun this cell unless you select Kernel -> Restart kernel).\n",
    "sc = pyspark.SparkContext()\n",
    "spark = pyspark.sql.SparkSession(sc)"
   ]
  },
  {
   "cell_type": "code",
   "execution_count": null,
   "metadata": {},
   "outputs": [],
   "source": [
    "# Output file\n",
    "OUTPUT_DIR='/path/to/output/directory'\n",
    "OUTPUT_FILENAME='output_phenotype_filename.csv'"
   ]
  },
  {
   "cell_type": "code",
   "execution_count": null,
   "metadata": {
    "tags": [],
    "trusted": true
   },
   "outputs": [],
   "source": [
    "# Automatically discover dispensed database name and dataset id\n",
    "dispensed_database = dxpy.find_one_data_object(\n",
    "    classname='database', \n",
    "    name='app*', \n",
    "    folder='/', \n",
    "    name_mode='glob', \n",
    "    describe=True)\n",
    "dispensed_database_name = dispensed_database['describe']['name']\n",
    "\n",
    "dispensed_dataset = dxpy.find_one_data_object(\n",
    "    typename='Dataset', \n",
    "    name='app*.dataset', \n",
    "    folder='/', \n",
    "    name_mode='glob')\n",
    "dispensed_dataset_id = dispensed_dataset['id']\n",
    "dataset = dxdata.load_dataset(id=dispensed_dataset_id)\n",
    "participant = dataset['participant']"
   ]
  },
  {
   "cell_type": "code",
   "execution_count": null,
   "metadata": {},
   "outputs": [],
   "source": [
    "field_name_dict = {'Sample':'eid', 'yob':'p34', 'sex':'p22001',\n",
    "                    'white_british_genetic':'p22006',\n",
    "                    'ethnic_background1':'p21000_i0', 'ethnic_background2':'p21000_i1', 'ethnic_background3':'p21000_i2', 'ethnic_background4':'p21000_i3',\n",
    "                    'recommend_for_exclusion':'p22010',\n",
    "                    'icd10':'p41270',\n",
    "                    'depressed_mood':'p20446', 'lost_interest':'p20441',\n",
    "                    'sleep_trouble1':'p1200_i0', 'sleep_trouble2':'p1200_i1', 'sleep_trouble3':'p1200_i2', 'sleep_trouble4':'p1200_i3',\n",
    "                    'mood_lability1':'p1920_i0', 'mood_lability2':'p1920_i1', 'mood_lability3':'p1920_i2', 'mood_lability4':'p1920_i3',\n",
    "                    'anxious_feeling':'p20421', 'worried_more':'p20425', 'drugs_for_anxiety':'p20549', 'anxiety_interferes_life':'p20418',\n",
    "                    'drinking_interferes_life':'p20407', 'unable_stop_drinking':'p20413', 'drug_addiction':'p20456',\n",
    "                    'unreal_sounds':'p20463', 'unreal_visions':'p20471', 'conspiracy':'p20468'\n",
    "}\n",
    "for i in range(1, 11):\n",
    "    field_name_dict['PC'+str(i)]='p22009_a'+str(i)\n",
    "\n",
    "field_names = list(field_name_dict.values())\n",
    "df = participant.retrieve_fields(names=field_names, engine=dxdata.connect(), coding_values=\"raw\")"
   ]
  },
  {
   "cell_type": "code",
   "execution_count": null,
   "metadata": {},
   "outputs": [],
   "source": [
    "# Filter to restrict to samples that have all the information needed\n",
    "df=df.na.drop(\"any\", subset=['p22001', 'p34']) # Have sex and age data\n",
    "df=df.where(df.p22010.isNull()) # Is not recommended for exclusion based on genetic QC\n",
    "# Drop any columns with all Null values\n",
    "null_counts = df.select([F.count(F.when(F.col(c).isNull(), c)).alias(c) for c in df.columns]).collect()[0].asDict()\n",
    "df_size=df.count()\n",
    "to_drop = [k for k, v in null_counts.items() if v == df_size] \n",
    "df = df.drop(*to_drop)"
   ]
  },
  {
   "cell_type": "code",
   "execution_count": null,
   "metadata": {},
   "outputs": [],
   "source": [
    "# Convert ICD10 codes to string\n",
    "df=df.withColumn('p41270', (df.p41270).cast('string'))"
   ]
  },
  {
   "cell_type": "code",
   "execution_count": null,
   "metadata": {},
   "outputs": [],
   "source": [
    "# Save to csv\n",
    "pdf=df.toPandas()\n",
    "pdf.to_csv(OUTPUT_FILENAME, index=False)\n",
    "dxpy.upload_local_file(OUTPUT_FILENAME, folder=OUTPUT_DIR, parents=True)\n",
    "os.remove(OUTPUT_FILENAME)"
   ]
  }
 ],
 "metadata": {
  "kernelspec": {
   "display_name": "Python 3 (ipykernel)",
   "language": "python",
   "name": "python3"
  },
  "language_info": {
   "codemirror_mode": {
    "name": "ipython",
    "version": 3
   },
   "file_extension": ".py",
   "mimetype": "text/x-python",
   "name": "python",
   "nbconvert_exporter": "python",
   "pygments_lexer": "ipython3",
   "version": "3.9.16"
  }
 },
 "nbformat": 4,
 "nbformat_minor": 4
}
