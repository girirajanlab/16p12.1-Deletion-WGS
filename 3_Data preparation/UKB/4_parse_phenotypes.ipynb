{
 "cells": [
  {
   "cell_type": "code",
   "execution_count": 1,
   "metadata": {
    "tags": [],
    "trusted": true
   },
   "outputs": [],
   "source": [
    "import pandas as pd\n",
    "import numpy as np\n",
    "import dxpy\n",
    "import os"
   ]
  },
  {
   "cell_type": "code",
   "execution_count": null,
   "metadata": {},
   "outputs": [],
   "source": [
    "# Input and output files\n",
    "INPUT_BURDEN=\"/path/to/input/16p12/sample/burden.csv\" # Use the output for 16p12.1 deletion samples from script 3_identify_samples.ipynb\n",
    "PHENO=\"/path/to/input/phenotype/data.csv\" # Use the output of script 2_gather_sample_data.ipynb\n",
    "DATA_ENCODING_PATH=\"/path/to/data/encoding/files/\" # UKB phenotypes use specific encodings. Add encoding TSV files to this directory to parse the phenotypes\n",
    "OUTPUT_PATH=\"/path/to/output/files\""
   ]
  },
  {
   "cell_type": "code",
   "execution_count": null,
   "metadata": {
    "tags": [],
    "trusted": true
   },
   "outputs": [],
   "source": [
    "# Parse phenotype data for 16p12.1 deletion samples\n",
    "df=pd.read_csv(INPUT_BURDEN)"
   ]
  },
  {
   "cell_type": "code",
   "execution_count": null,
   "metadata": {
    "tags": [],
    "trusted": true
   },
   "outputs": [],
   "source": [
    "# Parse phenotype data\n",
    "pheno=pd.read_csv(PHENO)\n",
    "# Rename columns\n",
    "field_name_dict = {'Sample':'eid', 'yob':'p34', 'sex':'p22001',\n",
    "                    'white_british_genetic':'p22006',\n",
    "                    'ethnic_background1':'p21000_i0', 'ethnic_background2':'p21000_i1', 'ethnic_background3':'p21000_i2', 'ethnic_background4':'p21000_i3',\n",
    "                    'recommend_for_exclusion':'p22010',\n",
    "                    'icd10':'p41270',\n",
    "                    'depressed_mood':'p20446', 'lost_interest':'p20441',\n",
    "                    'sleep_trouble1':'p1200_i0', 'sleep_trouble2':'p1200_i1', 'sleep_trouble3':'p1200_i2', 'sleep_trouble4':'p1200_i3',\n",
    "                    'mood_lability1':'p1920_i0', 'mood_lability2':'p1920_i1', 'mood_lability3':'p1920_i2', 'mood_lability4':'p1920_i3',\n",
    "                    'anxious_feeling':'p20421', 'worried_more':'p20425', 'drugs_for_anxiety':'p20549', 'anxiety_interferes_life':'p20418',\n",
    "                    'drinking_interferes_life':'p20407', 'unable_stop_drinking':'p20413', 'drug_addiction':'p20456',\n",
    "                    'unreal_sounds':'p20463', 'unreal_visions':'p20471', 'conspiracy':'p20468'\n",
    "}\n",
    "for i in range(1, 11):\n",
    "    field_name_dict['PC'+str(i)]='p22009_a'+str(i)\n",
    "inv_map = {v: k for k, v in field_name_dict.items()}\n",
    "cols=[inv_map[i] for i in pheno.columns.to_list()]\n",
    "pheno.columns=cols"
   ]
  },
  {
   "cell_type": "code",
   "execution_count": 4,
   "metadata": {
    "tags": [],
    "trusted": true
   },
   "outputs": [],
   "source": [
    "pheno=pheno[pheno.Sample.isin(df.Sample.to_list())]"
   ]
  },
  {
   "cell_type": "code",
   "execution_count": 5,
   "metadata": {
    "tags": [],
    "trusted": true
   },
   "outputs": [],
   "source": [
    "# Separate questionnaire data\n",
    "quest=pheno[['Sample', 'depressed_mood', 'lost_interest',\n",
    "             'sleep_trouble1', 'sleep_trouble2', 'sleep_trouble3', 'sleep_trouble4',\n",
    "             'mood_lability1', 'mood_lability2', 'mood_lability3', 'mood_lability4',\n",
    "             'anxious_feeling', 'worried_more', 'drugs_for_anxiety', 'anxiety_interferes_life',\n",
    "             'drinking_interferes_life', 'unable_stop_drinking', 'drug_addiction',\n",
    "             'unreal_sounds', 'unreal_visions', 'conspiracy']].copy()"
   ]
  },
  {
   "cell_type": "code",
   "execution_count": null,
   "metadata": {
    "tags": [],
    "trusted": true
   },
   "outputs": [],
   "source": [
    "# Update data encoding\n",
    "coding_dict={'depressed_mood':'503', 'lost_interest':'503',\n",
    "             'anxious_feeling':'502', 'worried_more':'502', 'drugs_for_anxiety':'1405', 'anxiety_interferes_life':'510',\n",
    "             'drinking_interferes_life':'523', 'unable_stop_drinking':'523', 'drug_addiction':'502',\n",
    "             'unreal_sounds':'502', 'unreal_visions':'502', 'conspiracy':'502'}\n",
    "for i in range(1, 5):\n",
    "    coding_dict['sleep_trouble'+str(i)]='100343'\n",
    "    coding_dict['mood_lability'+str(i)]='100349'\n",
    "\n",
    "quest.fillna('', inplace=True)\n",
    "\n",
    "for col in coding_dict.keys():\n",
    "    coding=pd.read_csv('DATA_ENCODING_PATH/coding'+coding_dict[col]+'.tsv', sep='\\t')\n",
    "    coding.index=coding.coding\n",
    "    encoding=coding.meaning.to_dict()\n",
    "\n",
    "    quest[col]=quest[col].map(encoding)"
   ]
  },
  {
   "cell_type": "code",
   "execution_count": 7,
   "metadata": {
    "tags": [],
    "trusted": true
   },
   "outputs": [],
   "source": [
    "# Convert questionnaire responses into binary results for broad phenotypes\n",
    "positive_response={'depressed_mood':'Yes', 'lost_interest':'Yes',\n",
    "                   'anxious_feeling':'Yes', 'worried_more':'Yes',\n",
    "                   'drugs_for_anxiety':'Unprescribed medication (more than once)|Medication prescribed to you (for at least two weeks)|Drugs or alcohol (more than once)',\n",
    "                   'anxiety_interferes_life':'Somewhat|A lot',\n",
    "                   'drinking_interferes_life':'Less than monthly|Monthly|Weekly|Daily or almost daily',\n",
    "                   'unable_stop_drinking':'Less than monthly|Monthly|Weekly|Daily or almost daily', 'drug_addiction':'Yes',\n",
    "                   'unreal_sounds':'Yes', 'unreal_visions':'Yes', 'conspiracy':'Yes'}\n",
    "for i in range(1, 5):\n",
    "    positive_response['sleep_trouble'+str(i)]='Sometimes|Usually'\n",
    "    positive_response['mood_lability'+str(i)]='Yes'\n",
    "\n",
    "pheno_groups={'depression':['depressed_mood', 'lost_interest'],\n",
    "              'sleep':['sleep_trouble'+str(i) for i in range(1, 5)],\n",
    "              'mood':['mood_lability'+str(i) for i in range(1, 5)],\n",
    "              'anxiety':['anxious_feeling', 'worried_more', 'drugs_for_anxiety', 'anxiety_interferes_life'],\n",
    "              'addiction':['drinking_interferes_life', 'unable_stop_drinking', 'drug_addiction'],\n",
    "              'psychosis':['unreal_sounds', 'unreal_visions', 'conspiracy']}\n",
    "\n",
    "for pg in pheno_groups.keys():\n",
    "    quest[pg]=0\n",
    "    quest.loc[quest[pheno_groups[pg]].isnull().all(axis=1), pg]=np.nan\n",
    "    for col in pheno_groups[pg]:\n",
    "        pos_resp=positive_response[col].split('|')\n",
    "        quest.loc[quest[col].isin(pos_resp), pg]=1"
   ]
  },
  {
   "cell_type": "code",
   "execution_count": null,
   "metadata": {
    "tags": [],
    "trusted": true
   },
   "outputs": [],
   "source": [
    "# Save questionnaire responses to file\n",
    "quest[['Sample', 'depression', 'sleep', 'mood', 'anxiety', 'addiction', 'psychosis']].to_csv('questionnaire_phenotypes.csv', index=False)\n",
    "dxpy.upload_local_file('questionnaire_phenotypes.csv', folder=OUTPUT_PATH, parents=True)\n",
    "os.remove('questionnaire_phenotypes.csv')"
   ]
  }
 ],
 "metadata": {
  "kernelspec": {
   "display_name": "Python 3 (ipykernel)",
   "language": "python",
   "name": "python3"
  },
  "language_info": {
   "codemirror_mode": {
    "name": "ipython",
    "version": 3
   },
   "file_extension": ".py",
   "mimetype": "text/x-python",
   "name": "python",
   "nbconvert_exporter": "python",
   "pygments_lexer": "ipython3",
   "version": "3.9.16"
  }
 },
 "nbformat": 4,
 "nbformat_minor": 4
}
