{
 "cells": [
  {
   "cell_type": "code",
   "execution_count": 1,
   "metadata": {
    "tags": [],
    "trusted": true
   },
   "outputs": [],
   "source": [
    "import pandas as pd\n",
    "import random\n",
    "import dxpy\n",
    "import os"
   ]
  },
  {
   "cell_type": "code",
   "execution_count": null,
   "metadata": {},
   "outputs": [],
   "source": [
    "# Input and output files\n",
    "CNV_INPUT=\"/path/to/input/cnvs.bed\" # Use tht ouput from script 1_Variant calling/UKB/2_CNV_annotation/6_frequency_filter.py\n",
    "CNV_QC_INPUT=\"/path/to/input/cnv/qc/data.csv\" # Use the QC file ouput from 1_Variant calling/UKB/2_CNV_annotation/2_check_QC.py\n",
    "CNV_BURDEN=\"/path/to/input/cnv/burden/data.csv\" # Use the CNV burden table generated in script 1_parse_burden.ipynb\n",
    "SNV_BURDEN=\"/path/to/input/snv/burden/data.csv\" # Use the SNV burden table generated in script 1_parse_burden.ipynb\n",
    "PHENO=\"/path/to/input/phenotype/data.csv\" # Use the output of script 2_gather_sample_data.ipynb\n",
    "WITHDRAWN_CONSENT=\"/path/to/file/with/samples/that/withdrew/consent.csv\" # After initial analysis, we were informed some samples withdrew consent\n",
    "OUTPUT_PATH=\"/path/to/output/files\""
   ]
  },
  {
   "cell_type": "code",
   "execution_count": null,
   "metadata": {
    "tags": [],
    "trusted": true
   },
   "outputs": [],
   "source": [
    "# Identify 16p12.1 deletion samples and relevant controls\n",
    "cnvs=pd.read_csv(CNV_INPUT, sep='\\t')\n",
    "cnvs['Sample']=cnvs.Sample.astype(int)\n",
    "\n",
    "samp_16p=cnvs[(cnvs.Pathogenic_Name=='16p12.1') & (cnvs.Type=='DEL')].Sample.to_list()\n",
    "to_rm=list(cnvs[(cnvs.Length>=500000) | (cnvs.Pathogenic_Name!='.')].Sample.unique())\n",
    "\n",
    "cnv_qc=pd.read_csv(CNV_QC_INPUT, sep='\\t', low_memory=False)\n",
    "cnv_qc=cnv_qc[(cnv_qc.Pass) & (cnv_qc.X_Pass)]\n",
    "\n",
    "cnv_qc['Sample']=cnv_qc.File.str.split('/', expand=True)[-1].str.split('_', expand=True)[0].astype(int)\n",
    "cnv_qc=cnv_qc[(~cnv_qc.Sample.isin(to_rm)) | (cnv_qc.Sample.isin(samp_16p))]\n",
    "\n",
    "\n",
    "cnv_qc['Case_Control']='No CNV Control'\n",
    "cnv_qc.loc[cnv_qc.Sample.isin(samp_16p), 'Case_Control']='16p12.1 deletion'\n",
    "df=cnv_qc[['Sample', 'Case_Control']].copy()"
   ]
  },
  {
   "cell_type": "code",
   "execution_count": null,
   "metadata": {
    "tags": [],
    "trusted": true
   },
   "outputs": [],
   "source": [
    "# Add CNV burden\n",
    "cnv_burden=pd.read_csv(CNV_BURDEN)\n",
    "\n",
    "df=pd.merge(df, cnv_burden, on='Sample', how='left')\n",
    "# Fill any CNV NAs with 0 as all samples have CNV data\n",
    "df.fillna(0, inplace=True)"
   ]
  },
  {
   "cell_type": "code",
   "execution_count": null,
   "metadata": {
    "tags": [],
    "trusted": true
   },
   "outputs": [],
   "source": [
    "# Add SNV burden\n",
    "snv_burden=pd.read_csv(SNV_BURDEN)\n",
    "df=pd.merge(df, snv_burden, on='Sample', how='left')"
   ]
  },
  {
   "cell_type": "code",
   "execution_count": null,
   "metadata": {
    "tags": [],
    "trusted": true
   },
   "outputs": [],
   "source": [
    "# Add in age and sex information to identify age and sex matched controls for the 16p12.1 deletion carriers\n",
    "pheno=pd.read_csv(PHENO)"
   ]
  },
  {
   "cell_type": "code",
   "execution_count": 6,
   "metadata": {
    "tags": [],
    "trusted": true
   },
   "outputs": [],
   "source": [
    "# Rename columns\n",
    "field_name_dict = {'Sample':'eid', 'yob':'p34', 'sex':'p22001',\n",
    "                    'white_british_genetic':'p22006',\n",
    "                    'ethnic_background1':'p21000_i0', 'ethnic_background2':'p21000_i1', 'ethnic_background3':'p21000_i2', 'ethnic_background4':'p21000_i3',\n",
    "                    'recommend_for_exclusion':'p22010',\n",
    "                    'icd10':'p41270',\n",
    "                    'depressed_mood':'p20446', 'lost_interest':'p20441',\n",
    "                    'sleep_trouble1':'p1200_i0', 'sleep_trouble2':'p1200_i1', 'sleep_trouble3':'p1200_i2', 'sleep_trouble4':'p1200_i3',\n",
    "                    'mood_lability1':'p1920_i0', 'mood_lability2':'p1920_i1', 'mood_lability3':'p1920_i2', 'mood_lability4':'p1920_i3',\n",
    "                    'anxious_feeling':'p20421', 'worried_more':'p20425', 'drugs_for_anxiety':'p20549', 'anxiety_interferes_life':'p20418',\n",
    "                    'drinking_interferes_life':'p20407', 'unable_stop_drinking':'p20413', 'drug_addiction':'p20456',\n",
    "                    'unreal_sounds':'p20463', 'unreal_visions':'p20471', 'conspiracy':'p20468'\n",
    "}\n",
    "for i in range(1, 11):\n",
    "    field_name_dict['PC'+str(i)]='p22009_a'+str(i)\n",
    "inv_map = {v: k for k, v in field_name_dict.items()}\n",
    "cols=[inv_map[i] for i in pheno.columns.to_list()]\n",
    "pheno.columns=cols"
   ]
  },
  {
   "cell_type": "code",
   "execution_count": null,
   "metadata": {
    "tags": [],
    "trusted": true
   },
   "outputs": [],
   "source": [
    "age_sex=pheno[['Sample', 'yob', 'sex']]\n",
    "df=pd.merge(df, age_sex, on='Sample', how='inner')"
   ]
  },
  {
   "cell_type": "code",
   "execution_count": null,
   "metadata": {
    "tags": [],
    "trusted": true
   },
   "outputs": [
    {
     "name": "stdout",
     "output_type": "stream",
     "text": [
      "No CNV Control      407312\n",
      "16p12.1 deletion       249\n",
      "Name: Case_Control, dtype: int64\n",
      "(407561, 16)\n",
      "(407561, 16)\n",
      "(407544, 16)\n",
      "No CNV Control      407295\n",
      "16p12.1 deletion       249\n",
      "Name: Case_Control, dtype: int64\n"
     ]
    }
   ],
   "source": [
    "# After initial analysis, we were informed additional individuals had withdrawn consent\n",
    "# Remove any samples with withdrawn consent\n",
    "withdrawl=pd.read_csv(WITHDRAWN_CONSENT, header=None, names=['Sample'])\n",
    "df=df[(df.Sample>0)]\n",
    "df=df[(~df.Sample.isin(withdrawl.Sample.to_list()))]"
   ]
  },
  {
   "cell_type": "code",
   "execution_count": 9,
   "metadata": {
    "tags": [],
    "trusted": true
   },
   "outputs": [],
   "source": [
    "# Identify age and sex matched controls for comparison\n",
    "df['age_sex']=df.yob.astype(str)+'.'+df.sex.astype(str)\n",
    "\n",
    "case_as=pd.DataFrame(df[(df.Case_Control=='16p12.1 deletion') & (~df.Missense.isnull())]['age_sex'].value_counts())\n",
    "case_as.columns=['case_num']\n",
    "\n",
    "case_as['nocnv_num']=case_as.index.map(df[(df.Case_Control=='No CNV Control') & (~df.Missense.isnull())]['age_sex'].value_counts().to_dict())\n",
    "case_as['nocnv_max_vals']=(case_as.nocnv_num/case_as.case_num).astype(int)\n",
    "\n",
    "# Choose the number of controls needed for each age\n",
    "case_as['nocnv_controls_needed']=case_as.case_num*min(case_as.nocnv_max_vals.to_numpy())"
   ]
  },
  {
   "cell_type": "code",
   "execution_count": 10,
   "metadata": {
    "tags": [],
    "trusted": true
   },
   "outputs": [],
   "source": [
    "# Randomly select the needed controls\n",
    "contdf=df[(df.Case_Control!='16p12.1 deletion') & (~df.Missense.isnull())].copy()\n",
    "contdf['keep']=False\n",
    "age_sex=list(case_as.index.unique())\n",
    "age_sex.sort()\n",
    "for ags in age_sex:\n",
    "    poss_samps=contdf[contdf.age_sex==ags].copy()\n",
    "\n",
    "    # No CNV\n",
    "    needed=case_as.loc[ags, 'nocnv_controls_needed']\n",
    "    random.seed(205)\n",
    "    chosen=random.sample(contdf[contdf.age_sex==ags]['Sample'].to_list(), needed)\n",
    "    contdf.loc[contdf.Sample.isin(chosen), 'keep']=True\n",
    "contdf=contdf[contdf.keep]"
   ]
  },
  {
   "cell_type": "code",
   "execution_count": 11,
   "metadata": {
    "tags": [],
    "trusted": true
   },
   "outputs": [],
   "source": [
    "# Save control samples to file\n",
    "contdf=contdf[['Sample', 'yob', 'sex', 'age_sex',\n",
    "               'All_coding_SNVs', 'All_coding_SNVs_LF', 'Missense', 'Missense_LF', 'LOF', 'LOF_LF', 'Splice', 'Splice_LF',\n",
    "               'Genes_del', 'Genes_del_LF', 'Genes_dup', 'Genes_dup_LF']]\n",
    "contdf.columns=['Sample', 'YOB', 'Sex', 'age_sex',\n",
    "                'All coding SNVs', 'All coding SNVs (LF)', 'Missense', 'Missense (LF)', 'LOF', 'LOF (LF)', 'Splice', 'Splice (LF)',\n",
    "                'Genes del.', 'Genes del. (LF)', 'Genes dup.', 'Genes dup. (LF)']\n",
    "int_cols=['All coding SNVs', 'All coding SNVs (LF)', 'Missense', 'Missense (LF)', 'LOF', 'LOF (LF)', 'Splice', 'Splice (LF)', 'Genes del.', 'Genes del. (LF)', 'Genes dup.', 'Genes dup. (LF)']\n",
    "contdf[int_cols]=contdf[int_cols].astype(int)"
   ]
  },
  {
   "cell_type": "code",
   "execution_count": null,
   "metadata": {
    "tags": [],
    "trusted": true
   },
   "outputs": [],
   "source": [
    "contdf.to_csv('control_burden.csv', index=False)\n",
    "dxpy.upload_local_file('control_burden.csv', folder=OUTPUT_PATH, parents=True)\n",
    "os.remove('control_burden.csv')"
   ]
  },
  {
   "cell_type": "code",
   "execution_count": 13,
   "metadata": {
    "tags": [],
    "trusted": true
   },
   "outputs": [],
   "source": [
    "# Save deletion data\n",
    "df=df[df.Case_Control=='16p12.1 deletion']\n",
    "df=df[['Sample', 'yob', 'sex', 'age_sex',\n",
    "               'All_coding_SNVs', 'All_coding_SNVs_LF', 'Missense', 'Missense_LF', 'LOF', 'LOF_LF', 'Splice', 'Splice_LF',\n",
    "               'Genes_del', 'Genes_del_LF', 'Genes_dup', 'Genes_dup_LF']]\n",
    "df.columns=['Sample', 'YOB', 'Sex', 'age_sex',\n",
    "                'All coding SNVs', 'All coding SNVs (LF)', 'Missense', 'Missense (LF)', 'LOF', 'LOF (LF)', 'Splice', 'Splice (LF)',\n",
    "                'Genes del.', 'Genes del. (LF)', 'Genes dup.', 'Genes dup. (LF)']"
   ]
  },
  {
   "cell_type": "code",
   "execution_count": null,
   "metadata": {
    "tags": [],
    "trusted": true
   },
   "outputs": [],
   "source": [
    "df.to_csv('16p_burden.csv', index=False)\n",
    "dxpy.upload_local_file('16p_burden.csv', folder=OUTPUT_PATH, parents=True)\n",
    "os.remove('16p_burden.csv')"
   ]
  }
 ],
 "metadata": {
  "kernelspec": {
   "display_name": "Python 3 (ipykernel)",
   "language": "python",
   "name": "python3"
  },
  "language_info": {
   "codemirror_mode": {
    "name": "ipython",
    "version": 3
   },
   "file_extension": ".py",
   "mimetype": "text/x-python",
   "name": "python",
   "nbconvert_exporter": "python",
   "pygments_lexer": "ipython3",
   "version": "3.9.16"
  }
 },
 "nbformat": 4,
 "nbformat_minor": 4
}
