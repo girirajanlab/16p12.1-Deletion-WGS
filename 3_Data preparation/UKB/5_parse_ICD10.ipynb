{
 "cells": [
  {
   "cell_type": "code",
   "execution_count": 1,
   "metadata": {
    "tags": [],
    "trusted": true
   },
   "outputs": [],
   "source": [
    "import pandas as pd\n",
    "import numpy as np\n",
    "import networkx as nx\n",
    "import dxpy\n",
    "import os"
   ]
  },
  {
   "cell_type": "code",
   "execution_count": null,
   "metadata": {},
   "outputs": [],
   "source": [
    "# Input and output files\n",
    "BURDEN_16P=\"/path/to/input/16p12/sample/burden.csv\" # Use the output for 16p12.1 deletion samples from script 3_identify_samples.ipynb\n",
    "BURDEN_CONTROL=\"/path/to/input/control/sample/burden.csv\" # Use the output for control samples from script 3_identify_samples.ipynb\n",
    "PHENO=\"/path/to/input/phenotype/data.csv\" # Use the output of script 2_gather_sample_data.ipynb\n",
    "DATA_CODING_19_PATH=\"/path/to/coding19.tsv\" # UKB ICD10 phenotypes are encoded using Data-coding 19\n",
    "OUTPUT_PATH=\"/path/to/output/files\""
   ]
  },
  {
   "cell_type": "code",
   "execution_count": null,
   "metadata": {
    "tags": [],
    "trusted": true
   },
   "outputs": [],
   "source": [
    "# Parse phenotype data for 16p12.1 deletion samples and controls\n",
    "df=pd.read_csv(BURDEN_16P)\n",
    "df2=pd.read_csv(BURDEN_CONTROL)"
   ]
  },
  {
   "cell_type": "code",
   "execution_count": null,
   "metadata": {
    "tags": [],
    "trusted": true
   },
   "outputs": [],
   "source": [
    "# Parse phenotype data\n",
    "pheno=pd.read_csv(PHENO)\n",
    "# Rename columns\n",
    "field_name_dict = {'Sample':'eid', 'yob':'p34', 'sex':'p22001',\n",
    "                    'white_british_genetic':'p22006',\n",
    "                    'ethnic_background1':'p21000_i0', 'ethnic_background2':'p21000_i1', 'ethnic_background3':'p21000_i2', 'ethnic_background4':'p21000_i3',\n",
    "                    'recommend_for_exclusion':'p22010',\n",
    "                    'icd10':'p41270',\n",
    "                    'depressed_mood':'p20446', 'lost_interest':'p20441',\n",
    "                    'sleep_trouble1':'p1200_i0', 'sleep_trouble2':'p1200_i1', 'sleep_trouble3':'p1200_i2', 'sleep_trouble4':'p1200_i3',\n",
    "                    'mood_lability1':'p1920_i0', 'mood_lability2':'p1920_i1', 'mood_lability3':'p1920_i2', 'mood_lability4':'p1920_i3',\n",
    "                    'anxious_feeling':'p20421', 'worried_more':'p20425', 'drugs_for_anxiety':'p20549', 'anxiety_interferes_life':'p20418',\n",
    "                    'drinking_interferes_life':'p20407', 'unable_stop_drinking':'p20413', 'drug_addiction':'p20456',\n",
    "                    'unreal_sounds':'p20463', 'unreal_visions':'p20471', 'conspiracy':'p20468'\n",
    "}\n",
    "for i in range(1, 11):\n",
    "    field_name_dict['PC'+str(i)]='p22009_a'+str(i)\n",
    "inv_map = {v: k for k, v in field_name_dict.items()}\n",
    "cols=[inv_map[i] for i in pheno.columns.to_list()]\n",
    "pheno.columns=cols"
   ]
  },
  {
   "cell_type": "code",
   "execution_count": 4,
   "metadata": {
    "tags": [],
    "trusted": true
   },
   "outputs": [],
   "source": [
    "# Get ICD10 codes for 16p12.1 deletion samples and controls\n",
    "pheno=pheno[pheno.Sample.isin(df.Sample.to_list()+df2.Sample.to_list())][['Sample', 'icd10']]\n",
    "pheno=pheno[~pheno.icd10.isnull()]\n",
    "pheno.icd10=pheno.icd10.str.replace('[', '', regex=False).str.replace(']', '', regex=False)\n",
    "pheno['coding']=pheno.icd10.str.split(', ')\n",
    "icd10=pheno.explode('coding')"
   ]
  },
  {
   "cell_type": "code",
   "execution_count": null,
   "metadata": {
    "tags": [],
    "trusted": true
   },
   "outputs": [],
   "source": [
    "# Map coding to ICD10 codes\n",
    "coding=pd.read_csv(DATA_CODING_19_PATH, sep='\\t')\n",
    "# Annotate terms hierarchical categories\n",
    "# Chapter (i.e. \"Chapter I Certain infectious and parasitic diseases\")\n",
    "# Block (i.e. \"A00-A09 Intestinal infectious diseases\")\n",
    "# Sub-block (i.e. \"A00 Cholera\")\n",
    "coding['label']='.'\n",
    "coding.loc[coding.coding.str.contains('Chapter'), 'label']='Chapter'\n",
    "coding.loc[coding.coding.str.contains('Block'), 'label']='Block'\n",
    "coding.loc[~(coding.meaning.str.contains('\\\\.')) & (~coding.coding.str.contains('Block')) & (~coding.coding.str.contains('Chapter')), 'label']='Sub-block'"
   ]
  },
  {
   "cell_type": "code",
   "execution_count": 6,
   "metadata": {
    "tags": [],
    "trusted": true
   },
   "outputs": [],
   "source": [
    "# Reorganize coding as hierarchy\n",
    "hierarchy=nx.DiGraph()\n",
    "hierarchy.add_nodes_from(coding.node_id.to_list())\n",
    "# Add parent-child edges\n",
    "parent=[tuple(r) for r in coding[coding.parent_id!=0][['parent_id', 'node_id']].to_numpy()]\n",
    "hierarchy.add_edges_from(parent)"
   ]
  },
  {
   "cell_type": "code",
   "execution_count": 7,
   "metadata": {
    "tags": [],
    "trusted": true
   },
   "outputs": [],
   "source": [
    "# Assign each node a chapter, block, and sub-block\n",
    "chapters=[]\n",
    "blocks=[]\n",
    "subblocks=[]\n",
    "for node in coding.node_id.to_list():\n",
    "    preds=[node]+list(hierarchy.predecessors(node))\n",
    "    while True:\n",
    "        old_preds=preds.copy()\n",
    "        for p in old_preds:\n",
    "            preds+=list(hierarchy.predecessors(p))\n",
    "        preds=sorted(list(set(preds)))\n",
    "        if len(preds)==len(old_preds):\n",
    "            break\n",
    "    \n",
    "    for i in range(3):\n",
    "        lst=[chapters, blocks, subblocks][i]\n",
    "        lab=['Chapter', 'Block', 'Sub-block'][i]\n",
    "        subdf=coding[(coding.node_id.isin(preds)) & (coding.label==lab)]\n",
    "        if subdf.shape[0]>0:\n",
    "            lst.append(subdf.node_id.to_list()[0])\n",
    "        else:\n",
    "            lst.append('.')\n",
    "    \n",
    "coding['Chapter']=chapters\n",
    "coding['Block']=blocks\n",
    "coding['Sub-block']=subblocks"
   ]
  },
  {
   "cell_type": "code",
   "execution_count": 8,
   "metadata": {
    "tags": [],
    "trusted": true
   },
   "outputs": [],
   "source": [
    "# Assign chapters to 16p12.1 sample ICD10 codes\n",
    "icd10=pd.merge(icd10, coding[['node_id', 'coding', 'meaning', 'Chapter', 'Block', 'Sub-block']], on='coding', how='left')"
   ]
  },
  {
   "cell_type": "code",
   "execution_count": 9,
   "metadata": {
    "tags": [],
    "trusted": true
   },
   "outputs": [],
   "source": [
    "# Reformat sample data by Chapter\n",
    "chapdf=icd10[['Sample', 'Chapter', 'coding']].groupby(['Sample', 'Chapter']).agg('count')\n",
    "max_val=chapdf.coding.max()\n",
    "chapdf.reset_index(inplace=True)\n",
    "\n",
    "chapdf=pd.pivot(chapdf, index='Sample', columns='Chapter', values='coding')\n",
    "chapdf.fillna(0, inplace=True)\n",
    "chapdf=chapdf.astype(int)\n",
    "for i in range(2, max_val+1):\n",
    "    chapdf=chapdf.replace(i, 1)\n",
    "chapdf.reset_index(inplace=True)"
   ]
  },
  {
   "cell_type": "code",
   "execution_count": 10,
   "metadata": {
    "tags": [],
    "trusted": true
   },
   "outputs": [],
   "source": [
    "# Subset and rename relevant chapter columns\n",
    "chapdf=chapdf[['Sample',\n",
    "               20, 30, 40, 50, 60,\n",
    "               70, 80, 90, 100, 110, 120,\n",
    "               130, 140, 150, 170]]\n",
    "chapdf.columns=['Sample',\n",
    "                'Neoplasms', 'Blood', 'Endocrine/Metabolic', 'Mental/behavioral disorders','Nervous system',\n",
    "                'Eye', 'Ear', 'Circulatory system', 'Respiratory system', 'Digestive system', 'Skin/subcutaeous tissue',\n",
    "                'Musc. system/connective tissue', 'Genitourinary system', 'Pregnancy/childbirth', 'Congenital malformations']"
   ]
  },
  {
   "cell_type": "code",
   "execution_count": null,
   "metadata": {
    "tags": [],
    "trusted": true
   },
   "outputs": [],
   "source": [
    "# Save\n",
    "chapdf[chapdf.Sample.isin(df.Sample.to_list())].to_csv('ICD10_16p12_Chapter.csv', index=False)\n",
    "dxpy.upload_local_file('ICD10_16p12_Chapter.csv', folder=OUTPUT_PATH, parents=True)\n",
    "os.remove('ICD10_16p12_Chapter.csv')"
   ]
  },
  {
   "cell_type": "code",
   "execution_count": null,
   "metadata": {
    "tags": [],
    "trusted": true
   },
   "outputs": [],
   "source": [
    "# Save control data\n",
    "chapdf[chapdf.Sample.isin(df2.Sample.to_list())].to_csv('ICD10_control_Chapter.csv', index=False)\n",
    "dxpy.upload_local_file('ICD10_control_Chapter.csv', folder=OUTPUT_PATH, parents=True)\n",
    "os.remove('ICD10_control_Chapter.csv')"
   ]
  },
  {
   "cell_type": "code",
   "execution_count": 13,
   "metadata": {
    "tags": [],
    "trusted": true
   },
   "outputs": [],
   "source": [
    "# Gather broad phenotype information from ICD10 codes\n",
    "# ICD10 codes we need:\n",
    "# Node ID - meaning [type]\n",
    "# 29110 - F32 Depressive episode [Sub-block]\n",
    "# 29940 - F51 Nonorganic sleep disorders [Sub-block]\n",
    "# 29420 - F41 Other anxiety disorders [Sub-block]\n",
    "# 27560 - F10.2 Dependence syndrome (Alcohol) [node]\n",
    "# [27670, 27780, 27890, 28000, 28110, 28220, 28440, 28550] -  F[11-16, 18-19].2 Dependence syndrome (Drugs) [node]\n",
    "# 780 - F20-29 Schizophrenia, schizotypal and delusional disorders [Block]\n",
    "nodes={27560:'addiction', 27670:'addiction', 27780:'addiction', 27890:'addiction',\n",
    "       28000:'addiction', 28110:'addiction', 28220:'addiction', 28440:'addiction', 28550:'addiction'}\n",
    "subblock={29940:'sleep', 29110:'depression', 29420:'anxiety'}\n",
    "block={780:'psychosis'}\n",
    "\n",
    "icd_interp=pd.DataFrame(0, index=list(icd10['Sample'].unique()), columns=['sleep', 'addiction', 'depression', 'anxiety', 'psychosis'])\n",
    "\n",
    "for n in nodes.keys():\n",
    "    icd_interp.loc[icd10[icd10.node_id==n]['Sample'].to_list(), nodes[n]]=1\n",
    "for sb in subblock.keys():\n",
    "    icd_interp.loc[icd10[icd10['Sub-block']==sb]['Sample'].to_list(), subblock[sb]]=1\n",
    "icd_interp.loc[icd10[icd10.Block==780]['Sample'].to_list(), 'psychosis']=1\n",
    "\n",
    "icd_interp['Sample']=icd_interp.index.to_list()\n",
    "icd_interp=icd_interp[['Sample', 'sleep', 'addiction', 'depression', 'anxiety', 'psychosis']]"
   ]
  },
  {
   "cell_type": "code",
   "execution_count": null,
   "metadata": {
    "tags": [],
    "trusted": true
   },
   "outputs": [],
   "source": [
    "# Save\n",
    "icd_interp.to_csv('ICD_interpretation.csv', index=False)\n",
    "dxpy.upload_local_file('ICD_interpretation.csv', folder=OUTPUT_PATH, parents=True)\n",
    "os.remove('ICD_interpretation.csv')"
   ]
  }
 ],
 "metadata": {
  "kernelspec": {
   "display_name": "Python 3 (ipykernel)",
   "language": "python",
   "name": "python3"
  },
  "language_info": {
   "codemirror_mode": {
    "name": "ipython",
    "version": 3
   },
   "file_extension": ".py",
   "mimetype": "text/x-python",
   "name": "python",
   "nbconvert_exporter": "python",
   "pygments_lexer": "ipython3",
   "version": "3.9.16"
  }
 },
 "nbformat": 4,
 "nbformat_minor": 4
}
